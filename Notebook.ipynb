{
  "nbformat": 4,
  "nbformat_minor": 0,
  "metadata": {
    "colab": {
      "name": "Notebook.ipynb",
      "provenance": [],
      "collapsed_sections": [
        "uS3VOqcnOMkn",
        "0gF6uiSrOWVv",
        "0WK5MfTEPHQU",
        "60LSawnuP7t1",
        "s4Nb6HkUPJRC",
        "_uc7liEW0Vt3",
        "qVco3mqYN1Dq",
        "sZTCy2dk0y93",
        "zcwJXaG0OJ69",
        "Q-S3TcTe4Zzi",
        "VAymzxoUTRnL",
        "kLFn9DZrTeKL"
      ],
      "authorship_tag": "ABX9TyOH2IjRFVBAQCVWDNLMjBZt",
      "include_colab_link": true
    },
    "kernelspec": {
      "name": "python3",
      "display_name": "Python 3"
    },
    "language_info": {
      "name": "python"
    }
  },
  "cells": [
    {
      "cell_type": "markdown",
      "metadata": {
        "id": "view-in-github",
        "colab_type": "text"
      },
      "source": [
        "<a href=\"https://colab.research.google.com/github/claytonsilva007/hacker_fiscalizacao_analise_dados/blob/main/Notebook.ipynb\" target=\"_parent\"><img src=\"https://colab.research.google.com/assets/colab-badge.svg\" alt=\"Open In Colab\"/></a>"
      ]
    },
    {
      "cell_type": "markdown",
      "source": [
        "## **1. OBJETIVO**\n",
        "        \n",
        "O objetivo deste estudo é quantificar e analisar as diferenças remuneratórias médias em razão do sexo e raça no âmbito do Poder Executivo Federal entre os anos de 1999 e 2020. \n",
        "\n",
        "## **2. SOBRE O MÉTODO**\n",
        "Para analisar as diferenças remuneratórias médias ao longo de toda série histórica, o dataframe foi rearranjado para viabilizar a criação de duas colunas, cujos objetivos são: i) quantificar nominalmente a diferença entre médias remuneratórias por raça e sexo; ii) quantificar a diferença percentual média das remunerações por raça e sexo.\n",
        "\n",
        "\n",
        "## **3. VISÃO GERAL DOS DADOS**\n",
        "\n",
        "As análises realizadas neste estudo terão como base os dois gráficos apresentados a seguir. O primeiro apresenta a evolução histórica das remunerações segregadas por sexo e raça. O segundo gráfico apresenta a diferença salarial média entre brancos e negros.\n",
        "\n",
        "<br/>\n",
        "<br/>\n",
        "\n",
        "<img src=\"https://drive.google.com/uc?id=1H_S5bRcLFph0fAND6sGSWqdrwvaYvbx4\">\n",
        "\n",
        "<br/>\n",
        "<br/>\n",
        "\n",
        "<img src=\"https://drive.google.com/uc?id=1wc0WXf4AdSr5QoEEOnqH4ZHVFQu1rTLU\">\n",
        "\n",
        "<br/>\n",
        "<br/>\n",
        "\n",
        "\n",
        "### **3.1 Média histórica - diferença salarial por sexo e raça** \n",
        "A seguir, serão apresentados dados relativos à diferença média entre as remuneração de homens e mulheres, brancos e negros no âmbito do Poder Executivo Federal.\n",
        "1.   As **mulheres** receberam cerca de **10,7% menos** que os **homens**, em média. (Seção [2.1.1.2](#secao-2.1.1.2)) \n",
        "2.  Os **negros** recebem cerca de **27.18% menos** que os **brancos**, em média.(Seção [2.1.2.2](#secao-2.1.2.2))\n",
        "3. Entre **homens**, constatamos que os **negros** receberam, em média, **29,44% menos** que os os **brancos**. (Seção [2.1.3.2](#secao-2.1.3.2))\n",
        "4. Entre **mulheres**, constatamos que, em média, as **negras** recebem **24,58% menos** que os os **brancas**. (Seção [2.1.3.2](#secao-2.1.3.2))\n",
        "\n",
        "\n",
        "### **3.2. Diferença salarial média ao longo da série histórica (1999-2020)**\n",
        "Com o intuito de obter informações mais detalhadas, iremos apresentar, nesta seção, dados relativos à diferença salarial existente entre brancos e negros ao longo de toda série histórica, trazendo ao debate fatos relevantes para a formulação de nossas conclusões. \n",
        "\n",
        "### **3.2.1.  Evolução histórica das diferenças remuneratórias entre brancos de negros**\n",
        "1. No ano de **2004**, a diferença remuneratória entre brancos e negros teve seu ponto mais baixo da série histórica, alcançando o percentual de **24.22%**. Em média, essa diferença percentual correponde ao valor de **RS 1.316,20**. (Seção [2.2.1.2](#secao-2.2.1.2))\n",
        "2. No ano de **2009**, essa diferença subiu para **29.97%**, chegando ao maior patamar de toda série histórica. Em termos pecuniários, isso corresponde, em média, ao valor de **RS 2.307,90**. Após isso, a houve uma queda expressiva entre os anos **2009-2016**, e, finalmente, a diferença ficou em **26,86%** no ano de 2020, que correspondem, em média, ao valor de **RS 2.220,15**. (Seção [2.2.1.2](#secao-2.2.1.2))     \n",
        "\n",
        "### **3.2.2.  Evolução histórica das diferenças remuneratórias entre homens de mulheres**\n",
        "1. Entre os anos de 2008 e 2013, observou-se que a diferença salarial de homens e mulheres sofreu forte redução, saindo de **15.13%** em 2008 e batendo a mínima histórica de **6.77%** no ano de 2013, performando uma queda de aproximadamente **55%**. (Seção [2.2.2.2](#secao-2.2.2.2))\n",
        "\n",
        "## **4. ANÁLISE DAS DIFERENÇAS SALARIAIS POR RAÇA**\n",
        "As diferenças salariais apresentadas nas seções anteriores são o retrato de uma sociedade marcada pela desigualdade de oportunidades. A despeito das políticas afirmativas criadas nos últimos 10 anos, a diferença remuneratória entre brancos e negros no Executivo Federal é de aproximadamente **27%**. Quando olhamos para a evolução histórica da diferença remuneratória média entre brancos e negros, é possível constatar um viés de baixa, sobretudo no período compreendido entre os anos 2004 e 2020. Entretanto, a série histórica é marcada por oscilações que podem ser melhor compreendidas à luz da [Nota Técnica Nº 49](https://www.ipea.gov.br/atlasestado/arquivos/downloads/3472-210720ntdiestn49.pdf), publicada pelo IPEA em julho de 2021:\n",
        "1. O número de brancos que ingressam no serviço público é maior que o número de negros. No ano 2000, **76,5%** dos ingressantes no serviço público eram **brancos** e **16,8%** eram **negros**. No ano de 2019, esses números variaram para **56,8%** e **38,1%**, respectivamente. \n",
        "2. As pessoas de raça negra ocupam cargos de remuneração mais baixa. Nos anos 2000, os negros ocupavam apenas **18%** dos cargos de nível superior, ou seja, cargos de maior remuneração. Em 2020, verificou-se uma melhor considerável, dado que o percentual de negros ocupantes de cargos de nível superior subiu para **27,3%**.\n",
        "\n",
        "\n",
        "A tendência de queda entre os anos de 2009 e 2020 pode, muito provavelmente, ser explicada pelas políticas afirmativas implantadas pelo Governo Federal, sobretudo, da **Lei 12.990/14**, que reserva aos negros, por um período de 10 anos, **20% das vagas** oferecidas nos concursos públicos para provimento de cargos efetivos e empregos públicos no âmbito da administração pública federal, bem como da **Lei 12.711/2012**, que destina 50% das vagas em universidades e institutos federais para pessoas que estudaram em escolas públicas. Enquanto esta potencializa o ingresso de pessoas de baixa renda e negros em cargos de nível superior, aquela garante um percentual mínimo de ocupação dos cargos públicos no âmbito da administração pública. \n",
        "\n",
        "\n",
        "Também merecem destaque os programas **FIES e ProUni**, que a exemplo da Lei 12.711/2012, potencializam o ingresso dos menos favorecidos em universidades, habilita-os para concorrer aos cargos de nível superior da administração pública. \n",
        "\n",
        "\n",
        "Outro aspecto que merece menção é a diferença média entre os salários em termos nominais. Mesmo em viés de baixa, essa diferença foi de aproximadamente **dois salários mínimos** em 2020. Em um cenário de inflação alta, as classes subrepresentadas são as primeiras a sentir os impactos financeiros.\n",
        "\n",
        "\n",
        "Por fim, um último ponto que salta aos olhos quando analisamos a evolução remuneratória por raça e sexo é a distância entre as remunerações médias de homens brancos e mulheres negras. Ambos estão, respectivamente, no topo e na base da pirâmide salarial do Poder Executivo Federal. Em seu ponto mínimo, essa diferença foi de **30.93%**, que em termos nominais correesponde ao valor nominal médio de **RS 1.907,80**. Em seu ponto máximo, essa diferença bateu **39.72%**, que corresponde ao valor nominal médio de **RS 3.219,80**, ou seja, aproximadamente **três salários mínimos** (ver seção [2.2.2.3](#secao-2.2.2.3)).\n",
        "A partir desses dados, fica cristalino o entendimento de que as mulheres ingressam no Poder Executivo Federal em cargos de menor remuneração, dado que os vencimentos são pagos igualitariamente a todos que ingressam em uma mesma carreira, independente de sua raça ou sexo.\n",
        "\n",
        "\n",
        "Considerando que as mulheres têm nível de escolaridade superior aos homens, conforme divulgado pelo [IBGE](https://educa.ibge.gov.br/jovens/materias-especiais/materias-especiais/20453-estatisticas-de-genero-indicadores-sociais-das-mulheres-no-brasil.html), e considerando, ainda, que as mulheres são minoria serviço público, de acordo com dados publicados no [Painel Estatístico do Ministério da Economia](http://painel.pep.planejamento.gov.br/QvAJAXZfc/opendoc.htm?document=painelpep.qvw&lang=en-US&host=Local&anonymous=true), é razoável concluir que a falta de representatividade feminina na administração pública não está relacionada à capacitação. Inúmeros fatores podem ter contribuído para isso. A maternidade, a dupla jornada de trabalho e o machismo podem estar contribuindo para isso, entretanto não iremos discuti-los aqui porque exorbitam o escopo deste trabalho.\n",
        "\n",
        "\n",
        "## **5. CONCLUSÕES**\n",
        "### **5.1. Conclusões de caráter geral**\n",
        "\n",
        "Os dados de remuneração dos servidores do Poder Executivo Federal são um proxy para questões relacionadas à desigualdade social, econômica, racial e sexual, visto que essas mesmas desigualdades estão, infelizmente, presentes no ceio de nossa sociedade. Embora políticas afirmativas tenham sido implementadas nos últimos anos, no sentido de dar oportunidade para aqueles que foram historicamente excluídos, seu impacto no Poder Executivo Federal ainda é tímido. Após quase uma década de ascenção da desigualdade remuneratória entre brancos e negros, estamos entrando em um cenário de redução das diferenças salariais e uma provável estabilização. Esses problemas serão resolvidos à medida que nos tornarmos uma sociedade mais justa e igualitária. Não à toa, nossa Constituição em seu Artigo 3º assevera que: \n",
        "\n",
        ">\"Constituem objetivos fundamentais da República Federativa do Brasil:\n",
        "\n",
        "> I – construir uma sociedade livre, justa e solidária;\"\n",
        "\n",
        "### **5.2. Considerações finais e trabalhos futuros**\n",
        "\n",
        "1. Embora os dados estudados sejam reveladores e estejam estatísticamente corretos, seria preferível utilizar uma medida de tendência central tolerante a valores extremos, como a mediana, por exemplo. Isso porque a média e extremamente influenciada por valores muito grandes e/ou muito pequenos. \n",
        "2. Observar a representatividade no .8 percentil e no .2 percentil da renda. Com isso, será possível obter uma visão clara da representatividade racial e sexual nos extremos da pirâmide remuneratória.\n",
        "3. De forma complementar, medidas de dispersão como variância e desvio padrão nos ajudariam a entender o quanto determinadas classes (brancos, negros, homens e mulheres) se aproximam ou se afastam do centro (media/mediana).  \n"
      ],
      "metadata": {
        "id": "TclR_5gU22q3"
      }
    },
    {
      "cell_type": "markdown",
      "source": [
        "## **1. Basic Data Processing**"
      ],
      "metadata": {
        "id": "nA-sydNzJsoZ"
      }
    },
    {
      "cell_type": "markdown",
      "source": [
        "#### Imports"
      ],
      "metadata": {
        "id": "uS3VOqcnOMkn"
      }
    },
    {
      "cell_type": "code",
      "execution_count": 1,
      "metadata": {
        "id": "5DjTdduCK3lO"
      },
      "outputs": [],
      "source": [
        "import pandas as pd\n",
        "import numpy as np\n",
        "import matplotlib.pyplot as plt\n",
        "import seaborn as sns"
      ]
    },
    {
      "cell_type": "code",
      "source": [
        "sns.set_theme(color_codes=True)"
      ],
      "metadata": {
        "id": "Bwv1H3xTotfE"
      },
      "execution_count": 2,
      "outputs": []
    },
    {
      "cell_type": "markdown",
      "source": [
        "#### Loading datasets"
      ],
      "metadata": {
        "id": "0gF6uiSrOWVv"
      }
    },
    {
      "cell_type": "code",
      "source": [
        "URL_DATASET = \"https://www.ipea.gov.br/atlasestado/arquivos/downloads/5233-liquidosexoraca.csv\""
      ],
      "metadata": {
        "id": "HRSAYfXjOeZF"
      },
      "execution_count": 3,
      "outputs": []
    },
    {
      "cell_type": "code",
      "source": [
        "def get_dataset(path):\n",
        "  return pd.read_csv(URL_DATASET, sep=\";\", decimal=\",\")"
      ],
      "metadata": {
        "id": "EWE--EAUOpQX"
      },
      "execution_count": 4,
      "outputs": []
    },
    {
      "cell_type": "markdown",
      "source": [
        "#### Functions"
      ],
      "metadata": {
        "id": "0WK5MfTEPHQU"
      }
    },
    {
      "cell_type": "markdown",
      "source": [
        "`rename_column(dataframe, old, new):` *Retorna um novo dataframe com colunas renomeadas*\n",
        "\n",
        "***Parâmetros***:\n",
        "\n",
        "1.   *dataframe*: Objeto do tipo dataframe que terá colunas renomeadas.\n",
        "2.   *old*: Nome da coluna que será renomeada.\n",
        "3.   *new*: Nome que será atribuído à coluna."
      ],
      "metadata": {
        "id": "4b9DcFt9Q_71"
      }
    },
    {
      "cell_type": "code",
      "source": [
        "def rename_column(dataframe, old, new):\n",
        "  dataframe = dataframe.rename(columns={old: new})\n",
        "  return dataframe"
      ],
      "metadata": {
        "id": "HCXuSmwxPOTd"
      },
      "execution_count": 5,
      "outputs": []
    },
    {
      "cell_type": "code",
      "source": [
        ""
      ],
      "metadata": {
        "id": "02lKOqrFYsZm"
      },
      "execution_count": 5,
      "outputs": []
    },
    {
      "cell_type": "markdown",
      "source": [
        "`split_column(column_name, dataframe, token, left_name, rigth_name)`: *Realiza divisão de uma coluna utilizando token separador, retornando um novo dataframe com as colunas resultantes da separação (split)*\n",
        "\n",
        "***Parâmetros***\n",
        "\n",
        "1.   *column_name*: Nome da coluna que será dividida.\n",
        "2.   *dataframe*: Dataframe que terá a operação de split realizada.\n",
        "3.   *token*: Caracter utilizado para dividir as colunas.\n",
        "4.   *left_name*: Nome da coluna à esquerda do split.\n",
        "5.   *rigth_name*: Nome da coluna à direita do split."
      ],
      "metadata": {
        "id": "ODdYHBH8WEXD"
      }
    },
    {
      "cell_type": "code",
      "source": [
        "def split_column(column_name, dataframe, token, left_name, rigth_name):\n",
        "  dataframe[[left_name, rigth_name]] = dataframe['sexo_raça'].str.split(token, 1, expand=True)\n",
        "  return df"
      ],
      "metadata": {
        "id": "KpEdQxnWRdjV"
      },
      "execution_count": 6,
      "outputs": []
    },
    {
      "cell_type": "code",
      "source": [
        ""
      ],
      "metadata": {
        "id": "imZlewYJbQ-C"
      },
      "execution_count": 6,
      "outputs": []
    },
    {
      "cell_type": "markdown",
      "source": [
        "`replace_words(dicionario, dataframe, column_name)`: *Substitui o conteúdo de uma coluna específica, retornando um novo dataframe.*\n",
        "\n",
        "***Parâmetros***\n",
        "\n",
        "1.   *dicionario*: Dicionário cuja chave e valor representam, respectivamente, as palavras substituídas e substitutas.\n",
        "2.   *dataframe*: Dataframe cujo conteúdo será atualizado.\n",
        "3.   *column_name*: Nome da coluna cujo conteúdo será alterado."
      ],
      "metadata": {
        "id": "Pt_pcxAdZ8f0"
      }
    },
    {
      "cell_type": "code",
      "source": [
        "def replace_words(dicionario, dataframe, column_name):\n",
        "  for key in dicionario:\n",
        "    value = dicionario[key]\n",
        "    dataframe[column_name] = dataframe[column_name].str.replace(key, value)\n",
        "  return dataframe"
      ],
      "metadata": {
        "id": "Z7YxNQuZYr26"
      },
      "execution_count": 7,
      "outputs": []
    },
    {
      "cell_type": "code",
      "source": [
        ""
      ],
      "metadata": {
        "id": "bivgqtKRbUE6"
      },
      "execution_count": 7,
      "outputs": []
    },
    {
      "cell_type": "markdown",
      "source": [
        "`alter_type(column_name, tp, dataframe)`: *Altera o tipo de uma coluna passada por parâmetro, retornando um novo dataframe.*\n",
        "\n",
        "***Parâmetros***\n",
        "\n",
        "1.   *column_name*: Nome da coluna cujo tipo será alterado.\n",
        "2.   *tp*: Tipo que será atribuído à coluna informada por parâmetro.\n",
        "3.   *dataframe*: Dataframe cuja coluna terá seu tipo alterado."
      ],
      "metadata": {
        "id": "ux-wI5dZ_9W3"
      }
    },
    {
      "cell_type": "code",
      "source": [
        "def alter_type(column_name, tp, dataframe):\n",
        "  return dataframe.astype({column_name: tp}, errors='raise')"
      ],
      "metadata": {
        "id": "9oP-50aQqK9E"
      },
      "execution_count": 8,
      "outputs": []
    },
    {
      "cell_type": "code",
      "source": [
        ""
      ],
      "metadata": {
        "id": "8eF_koRwwSS3"
      },
      "execution_count": 8,
      "outputs": []
    },
    {
      "cell_type": "code",
      "source": [
        "def get_percentage(val_ref, param):\n",
        "  diff = val_ref - param\n",
        "  return (diff/val_ref)*100"
      ],
      "metadata": {
        "id": "iNwf0mqxeWEM"
      },
      "execution_count": 9,
      "outputs": []
    },
    {
      "cell_type": "markdown",
      "source": [
        "#### Transform data"
      ],
      "metadata": {
        "id": "60LSawnuP7t1"
      }
    },
    {
      "cell_type": "code",
      "source": [
        "cols = ['ano', 'sexo', 'raca', 'remuneracao']"
      ],
      "metadata": {
        "id": "AoqIxCO2elof"
      },
      "execution_count": 10,
      "outputs": []
    },
    {
      "cell_type": "code",
      "source": [
        "df = get_dataset(URL_DATASET)"
      ],
      "metadata": {
        "id": "a00vmQyLNcG_"
      },
      "execution_count": 11,
      "outputs": []
    },
    {
      "cell_type": "code",
      "source": [
        "df.info()"
      ],
      "metadata": {
        "colab": {
          "base_uri": "https://localhost:8080/"
        },
        "id": "9mN0UOuIp0nL",
        "outputId": "ed973012-7eca-4ca9-8e27-ecedef7b574e"
      },
      "execution_count": 12,
      "outputs": [
        {
          "output_type": "stream",
          "name": "stdout",
          "text": [
            "<class 'pandas.core.frame.DataFrame'>\n",
            "RangeIndex: 88 entries, 0 to 87\n",
            "Data columns (total 4 columns):\n",
            " #   Column      Non-Null Count  Dtype  \n",
            "---  ------      --------------  -----  \n",
            " 0   Unnamed: 0  88 non-null     int64  \n",
            " 1   ano         88 non-null     int64  \n",
            " 2   sexo_raça   88 non-null     object \n",
            " 3   liquido     88 non-null     float64\n",
            "dtypes: float64(1), int64(2), object(1)\n",
            "memory usage: 2.9+ KB\n"
          ]
        }
      ]
    },
    {
      "cell_type": "code",
      "source": [
        "# Alterando o tipo da coluna para float.\n",
        "df = alter_type('liquido', float, df)"
      ],
      "metadata": {
        "id": "jVWKxr4PqGKM"
      },
      "execution_count": 13,
      "outputs": []
    },
    {
      "cell_type": "code",
      "source": [
        "# Renomando colunas\n",
        "df = rename_column(df, 'Unnamed: 0', 'indice')\n",
        "df = rename_column(df, 'liquido', 'remuneracao')"
      ],
      "metadata": {
        "id": "_XSa0ZFNQ6Zm"
      },
      "execution_count": 14,
      "outputs": []
    },
    {
      "cell_type": "code",
      "source": [
        "# Dividindo a coluna sexo_raca \n",
        "df = split_column('sexo_raca', df, ' ', 'sexo', 'raca')"
      ],
      "metadata": {
        "id": "XWtqJiD9RcN9"
      },
      "execution_count": 15,
      "outputs": []
    },
    {
      "cell_type": "code",
      "source": [
        "# Criando dicionário para padronização da raça. \n",
        "dict_racas = {'Branco': 'Branca', 'Negro': 'Negra'}"
      ],
      "metadata": {
        "id": "pDe9qUMFMbOV"
      },
      "execution_count": 16,
      "outputs": []
    },
    {
      "cell_type": "code",
      "source": [
        "# Ajustando o conteúdo da coluna raça\n",
        "df = replace_words(dict_racas, df, 'raca')"
      ],
      "metadata": {
        "id": "qlIH3ZRqVei_"
      },
      "execution_count": 17,
      "outputs": []
    },
    {
      "cell_type": "markdown",
      "source": [
        "## **2. Exploratory data analysis**"
      ],
      "metadata": {
        "id": "FZPnEzcHf5MG"
      }
    },
    {
      "cell_type": "code",
      "source": [
        "sns.scatterplot(data=df, x='ano', y='remuneracao', hue='sexo_raça')"
      ],
      "metadata": {
        "colab": {
          "base_uri": "https://localhost:8080/",
          "height": 519
        },
        "id": "71KftHslGbnj",
        "outputId": "6196aa96-4d22-4bfa-c443-1a25f6cc05cb"
      },
      "execution_count": 69,
      "outputs": [
        {
          "output_type": "execute_result",
          "data": {
            "text/plain": [
              "<matplotlib.axes._subplots.AxesSubplot at 0x7fdd9d3a7f50>"
            ]
          },
          "metadata": {},
          "execution_count": 69
        },
        {
          "output_type": "display_data",
          "data": {
            "text/plain": [
              "<Figure size 1080x576 with 1 Axes>"
            ],
            "image/png": "[encoded data removed]"
          },
          "metadata": {}
        }
      ]
    },
    {
      "cell_type": "code",
      "source": [
        "# Fundo branco e remoção de grid.\n",
        "sns.set_style(\"whitegrid\", {'axes.grid': False})\n",
        "\n",
        "g_remuneracoes = sns.lineplot(data=df, x='ano', y='remuneracao', hue='sexo_raça', palette=\"tab10\")\n",
        "g_remuneracoes.set(title=\"Evolução das remunerações por sexo e raça\")\n",
        "g_remuneracoes.set_xlabel(\"\")\n",
        "g_remuneracoes.set_ylabel(\"Remuneração média em Reais\")"
      ],
      "metadata": {
        "colab": {
          "base_uri": "https://localhost:8080/",
          "height": 518
        },
        "id": "10dcPrHDG7HY",
        "outputId": "22878f7a-0ecc-4764-d397-fee645cf7421"
      },
      "execution_count": 91,
      "outputs": [
        {
          "output_type": "execute_result",
          "data": {
            "text/plain": [
              "Text(0, 0.5, 'Remuneração média em Reais')"
            ]
          },
          "metadata": {},
          "execution_count": 91
        },
        {
          "output_type": "display_data",
          "data": {
            "text/plain": [
              "<Figure size 1080x576 with 1 Axes>"
            ],
            "image/png": "[encoded data removed]"
          },
          "metadata": {}
        }
      ]
    },
    {
      "cell_type": "code",
      "source": [
        "sns.barplot(data=df, y='remuneracao', x='ano', hue='sexo_raça')"
      ],
      "metadata": {
        "colab": {
          "base_uri": "https://localhost:8080/",
          "height": 519
        },
        "id": "hHcSdS6UHeh1",
        "outputId": "a4324594-28ad-46d6-b91e-e176a12b4831"
      },
      "execution_count": 79,
      "outputs": [
        {
          "output_type": "execute_result",
          "data": {
            "text/plain": [
              "<matplotlib.axes._subplots.AxesSubplot at 0x7fdd9aacb690>"
            ]
          },
          "metadata": {},
          "execution_count": 79
        },
        {
          "output_type": "display_data",
          "data": {
            "text/plain": [
              "<Figure size 1080x576 with 1 Axes>"
            ],
            "image/png": "[encoded data removed]"
          },
          "metadata": {}
        }
      ]
    },
    {
      "cell_type": "markdown",
      "source": [
        "<a name=\"sexo_raca_id\"></a>\n",
        "### **2.1 Diferenças remuneratórias médias entre entre homens e mulheres, brancos e negros**"
      ],
      "metadata": {
        "id": "Jj6psMNVGgFo"
      }
    },
    {
      "cell_type": "markdown",
      "source": [
        "#### **2.1.1 Diferenças remuneratórias médias por sexo**"
      ],
      "metadata": {
        "id": "YwqWp2Fx0Daw"
      }
    },
    {
      "cell_type": "markdown",
      "source": [
        "##### **2.1.1.1 Preparando os dados**"
      ],
      "metadata": {
        "id": "s4Nb6HkUPJRC"
      }
    },
    {
      "cell_type": "code",
      "source": [
        "# Calculando a média salarial acumulada em toda a série.\n",
        "grouped = df[['sexo', 'remuneracao']].groupby(['sexo'], as_index=False).mean()\n",
        "\n",
        "# Obtendo o valor de remuneração dos homens\n",
        "gh = grouped[grouped['sexo']=='Homem']\n",
        "remuneracao_homens = gh['remuneracao'].values[0]\n",
        "\n",
        "# Obtendo o valor de remuneração das mulheres\n",
        "gm = grouped[grouped['sexo']=='Mulher']\n",
        "remuneracao_mulheres = gm['remuneracao'].values[0]\n",
        "\n",
        "# Calculando a diferença absoluta e percentual entre \n",
        "# os salários de homens e mulheres\n",
        "diferenca_remuneracao = remuneracao_homens - remuneracao_mulheres\n",
        "percentual_diferenca = get_percentage(remuneracao_homens, remuneracao_mulheres) "
      ],
      "metadata": {
        "id": "uZf5dUASKmWo"
      },
      "execution_count": 18,
      "outputs": []
    },
    {
      "cell_type": "code",
      "source": [
        "percentual_diferenca"
      ],
      "metadata": {
        "colab": {
          "base_uri": "https://localhost:8080/"
        },
        "id": "cFX9aP-YT7ih",
        "outputId": "f8124119-b5da-4b95-a278-97ed9ac31959"
      },
      "execution_count": 19,
      "outputs": [
        {
          "output_type": "execute_result",
          "data": {
            "text/plain": [
              "10.702160414105188"
            ]
          },
          "metadata": {},
          "execution_count": 19
        }
      ]
    },
    {
      "cell_type": "code",
      "source": [
        "percentual_diferenca"
      ],
      "metadata": {
        "colab": {
          "base_uri": "https://localhost:8080/"
        },
        "id": "HrAEFtw5WqY_",
        "outputId": "100a7f27-4510-452c-d3ad-61327ce47e2a"
      },
      "execution_count": 20,
      "outputs": [
        {
          "output_type": "execute_result",
          "data": {
            "text/plain": [
              "10.702160414105188"
            ]
          },
          "metadata": {},
          "execution_count": 20
        }
      ]
    },
    {
      "cell_type": "markdown",
      "source": [
        "<a name=\"secao-2.1.1.2\"></a>\n",
        "##### **2.1.1.2 Gráfico - Remuneração média por sexo**"
      ],
      "metadata": {
        "id": "_uc7liEW0Vt3"
      }
    },
    {
      "cell_type": "code",
      "source": [
        "g_remuneracao_sexo = sns.catplot(data=df, x='sexo', y='remuneracao', kind='bar', ci=\"sd\", palette=\"dark\", alpha=.6, height=6)\n",
        "g_remuneracao_sexo.set(title='Remuneração média por sexo')"
      ],
      "metadata": {
        "colab": {
          "base_uri": "https://localhost:8080/",
          "height": 0
        },
        "id": "HILGzawKCtz-",
        "outputId": "f8e3bfcc-0eb8-4f79-f42e-7762760d81b1"
      },
      "execution_count": 21,
      "outputs": [
        {
          "output_type": "execute_result",
          "data": {
            "text/plain": [
              "<seaborn.axisgrid.FacetGrid at 0x7fdda3595090>"
            ]
          },
          "metadata": {},
          "execution_count": 21
        },
        {
          "output_type": "display_data",
          "data": {
            "text/plain": [
              "<Figure size 432x432 with 1 Axes>"
            ],
            "image/png": "[encoded data removed]"
          },
          "metadata": {}
        }
      ]
    },
    {
      "cell_type": "code",
      "source": [
        "get_percentage(remuneracao_homens, remuneracao_mulheres) "
      ],
      "metadata": {
        "colab": {
          "base_uri": "https://localhost:8080/"
        },
        "id": "VAjRQgS8n-E1",
        "outputId": "17a39e65-08b1-443e-9729-fee5dba3cbc6"
      },
      "execution_count": 22,
      "outputs": [
        {
          "output_type": "execute_result",
          "data": {
            "text/plain": [
              "10.702160414105188"
            ]
          },
          "metadata": {},
          "execution_count": 22
        }
      ]
    },
    {
      "cell_type": "markdown",
      "source": [
        "#### **2.1.2 Diferenças remuneratórias médias por raça**"
      ],
      "metadata": {
        "id": "g4KLFN_50ncm"
      }
    },
    {
      "cell_type": "markdown",
      "source": [
        "##### **2.1.2.1 Processamento dos dados**"
      ],
      "metadata": {
        "id": "qVco3mqYN1Dq"
      }
    },
    {
      "cell_type": "code",
      "source": [
        "# Calculando a média salarial acumulada em toda a série por raça.\n",
        "grouped = df[['raca', 'remuneracao']].groupby(['raca'], as_index=False).mean()\n",
        "\n",
        "# Obtendo o valor de remuneração das pessoas de raça branca\n",
        "pb = grouped[grouped['raca']=='Branca']\n",
        "remuneracao_brancos = pb['remuneracao'].values[0]\n",
        "\n",
        "# Obtendo o valor de remuneração das pessoas de raça branca\n",
        "pn = grouped[grouped['raca']=='Negra']\n",
        "remuneracao_negros = pn['remuneracao'].values[0]\n",
        "\n",
        "# Calculando a diferença salarial média entre brancos e negros,\n",
        "# independente do sexo\n",
        "diferenca_remuneracao = remuneracao_brancos - remuneracao_negros\n",
        "\n",
        "# Calculando a diferença percentual entre as remunerações de brancos e negros\n",
        "percentual_diferenca_brancos_negros = get_percentage(remuneracao_brancos, remuneracao_negros)"
      ],
      "metadata": {
        "id": "qFF0OrHT1ecA"
      },
      "execution_count": 23,
      "outputs": []
    },
    {
      "cell_type": "code",
      "source": [
        "grouped"
      ],
      "metadata": {
        "colab": {
          "base_uri": "https://localhost:8080/",
          "height": 0
        },
        "id": "NqtSwXEOyuNn",
        "outputId": "4b992ff1-f6dd-4836-bedb-52c71184cfda"
      },
      "execution_count": 24,
      "outputs": [
        {
          "output_type": "execute_result",
          "data": {
            "text/plain": [
              "     raca  remuneracao\n",
              "0  Branca  7228.568182\n",
              "1   Negra  5263.411364"
            ],
            "text/html": [
              "\n",
              "  <div id=\"df-b76622c6-2684-4594-8b3a-257f6f046de6\">\n",
              "    <div class=\"colab-df-container\">\n",
              "      <div>\n",
              "<style scoped>\n",
              "    .dataframe tbody tr th:only-of-type {\n",
              "        vertical-align: middle;\n",
              "    }\n",
              "\n",
              "    .dataframe tbody tr th {\n",
              "        vertical-align: top;\n",
              "    }\n",
              "\n",
              "    .dataframe thead th {\n",
              "        text-align: right;\n",
              "    }\n",
              "</style>\n",
              "<table border=\"1\" class=\"dataframe\">\n",
              "  <thead>\n",
              "    <tr style=\"text-align: right;\">\n",
              "      <th></th>\n",
              "      <th>raca</th>\n",
              "      <th>remuneracao</th>\n",
              "    </tr>\n",
              "  </thead>\n",
              "  <tbody>\n",
              "    <tr>\n",
              "      <th>0</th>\n",
              "      <td>Branca</td>\n",
              "      <td>7228.568182</td>\n",
              "    </tr>\n",
              "    <tr>\n",
              "      <th>1</th>\n",
              "      <td>Negra</td>\n",
              "      <td>5263.411364</td>\n",
              "    </tr>\n",
              "  </tbody>\n",
              "</table>\n",
              "</div>\n",
              "      <button class=\"colab-df-convert\" onclick=\"convertToInteractive('df-b76622c6-2684-4594-8b3a-257f6f046de6')\"\n",
              "              title=\"Convert this dataframe to an interactive table.\"\n",
              "              style=\"display:none;\">\n",
              "        \n",
              "  <svg xmlns=\"http://www.w3.org/2000/svg\" height=\"24px\"viewBox=\"0 0 24 24\"\n",
              "       width=\"24px\">\n",
              "    <path d=\"M0 0h24v24H0V0z\" fill=\"none\"/>\n",
              "    <path d=\"M18.56 5.44l.94 2.06.94-2.06 2.06-.94-2.06-.94-.94-2.06-.94 2.06-2.06.94zm-11 1L8.5 8.5l.94-2.06 2.06-.94-2.06-.94L8.5 2.5l-.94 2.06-2.06.94zm10 10l.94 2.06.94-2.06 2.06-.94-2.06-.94-.94-2.06-.94 2.06-2.06.94z\"/><path d=\"M17.41 7.96l-1.37-1.37c-.4-.4-.92-.59-1.43-.59-.52 0-1.04.2-1.43.59L10.3 9.45l-7.72 7.72c-.78.78-.78 2.05 0 2.83L4 21.41c.39.39.9.59 1.41.59.51 0 1.02-.2 1.41-.59l7.78-7.78 2.81-2.81c.8-.78.8-2.07 0-2.86zM5.41 20L4 18.59l7.72-7.72 1.47 1.35L5.41 20z\"/>\n",
              "  </svg>\n",
              "      </button>\n",
              "      \n",
              "  <style>\n",
              "    .colab-df-container {\n",
              "      display:flex;\n",
              "      flex-wrap:wrap;\n",
              "      gap: 12px;\n",
              "    }\n",
              "\n",
              "    .colab-df-convert {\n",
              "      background-color: #E8F0FE;\n",
              "      border: none;\n",
              "      border-radius: 50%;\n",
              "      cursor: pointer;\n",
              "      display: none;\n",
              "      fill: #1967D2;\n",
              "      height: 32px;\n",
              "      padding: 0 0 0 0;\n",
              "      width: 32px;\n",
              "    }\n",
              "\n",
              "    .colab-df-convert:hover {\n",
              "      background-color: #E2EBFA;\n",
              "      box-shadow: 0px 1px 2px rgba(60, 64, 67, 0.3), 0px 1px 3px 1px rgba(60, 64, 67, 0.15);\n",
              "      fill: #174EA6;\n",
              "    }\n",
              "\n",
              "    [theme=dark] .colab-df-convert {\n",
              "      background-color: #3B4455;\n",
              "      fill: #D2E3FC;\n",
              "    }\n",
              "\n",
              "    [theme=dark] .colab-df-convert:hover {\n",
              "      background-color: #434B5C;\n",
              "      box-shadow: 0px 1px 3px 1px rgba(0, 0, 0, 0.15);\n",
              "      filter: drop-shadow(0px 1px 2px rgba(0, 0, 0, 0.3));\n",
              "      fill: #FFFFFF;\n",
              "    }\n",
              "  </style>\n",
              "\n",
              "      <script>\n",
              "        const buttonEl =\n",
              "          document.querySelector('#df-b76622c6-2684-4594-8b3a-257f6f046de6 button.colab-df-convert');\n",
              "        buttonEl.style.display =\n",
              "          google.colab.kernel.accessAllowed ? 'block' : 'none';\n",
              "\n",
              "        async function convertToInteractive(key) {\n",
              "          const element = document.querySelector('#df-b76622c6-2684-4594-8b3a-257f6f046de6');\n",
              "          const dataTable =\n",
              "            await google.colab.kernel.invokeFunction('convertToInteractive',\n",
              "                                                     [key], {});\n",
              "          if (!dataTable) return;\n",
              "\n",
              "          const docLinkHtml = 'Like what you see? Visit the ' +\n",
              "            '<a target=\"_blank\" href=https://colab.research.google.com/notebooks/data_table.ipynb>data table notebook</a>'\n",
              "            + ' to learn more about interactive tables.';\n",
              "          element.innerHTML = '';\n",
              "          dataTable['output_type'] = 'display_data';\n",
              "          await google.colab.output.renderOutput(dataTable, element);\n",
              "          const docLink = document.createElement('div');\n",
              "          docLink.innerHTML = docLinkHtml;\n",
              "          element.appendChild(docLink);\n",
              "        }\n",
              "      </script>\n",
              "    </div>\n",
              "  </div>\n",
              "  "
            ]
          },
          "metadata": {},
          "execution_count": 24
        }
      ]
    },
    {
      "cell_type": "code",
      "source": [
        "percentual_diferenca_brancos_negros"
      ],
      "metadata": {
        "colab": {
          "base_uri": "https://localhost:8080/"
        },
        "id": "VQybA8vu230Z",
        "outputId": "4c82d147-1da1-4583-cb07-bc8d195af2f4"
      },
      "execution_count": 25,
      "outputs": [
        {
          "output_type": "execute_result",
          "data": {
            "text/plain": [
              "27.185976098623833"
            ]
          },
          "metadata": {},
          "execution_count": 25
        }
      ]
    },
    {
      "cell_type": "markdown",
      "source": [
        "<a name=\"secao-2.1.2.2\"></a>\n",
        "##### **2.1.2.2 Gráfico - Diferenças salariais por raça**"
      ],
      "metadata": {
        "id": "sZTCy2dk0y93"
      }
    },
    {
      "cell_type": "code",
      "source": [
        "g_remuneracao_sexo_raca = sns.catplot(data=df, x='raca', y='remuneracao', kind='bar', hue='raca', ci=\"sd\", palette=\"dark\", alpha=.6, height=6)\n",
        "g_remuneracao_sexo_raca.set(title='Remuneração média por raça')"
      ],
      "metadata": {
        "colab": {
          "base_uri": "https://localhost:8080/",
          "height": 0
        },
        "id": "UtO_FWJF03KQ",
        "outputId": "94d1125a-ba74-45fd-aa57-bd3e7c46f560"
      },
      "execution_count": 26,
      "outputs": [
        {
          "output_type": "execute_result",
          "data": {
            "text/plain": [
              "<seaborn.axisgrid.FacetGrid at 0x7fdda28450d0>"
            ]
          },
          "metadata": {},
          "execution_count": 26
        },
        {
          "output_type": "display_data",
          "data": {
            "text/plain": [
              "<Figure size 432x432 with 1 Axes>"
            ],
            "image/png": "[encoded data removed]"
          },
          "metadata": {}
        }
      ]
    },
    {
      "cell_type": "code",
      "source": [
        "get_percentage(remuneracao_brancos, remuneracao_negros)"
      ],
      "metadata": {
        "colab": {
          "base_uri": "https://localhost:8080/"
        },
        "id": "HZ4iYCI0rZN9",
        "outputId": "7c98415f-fb16-468f-d907-f43022f2c80e"
      },
      "execution_count": 27,
      "outputs": [
        {
          "output_type": "execute_result",
          "data": {
            "text/plain": [
              "27.185976098623833"
            ]
          },
          "metadata": {},
          "execution_count": 27
        }
      ]
    },
    {
      "cell_type": "markdown",
      "source": [
        "#### **2.1.3 Diferenças remuneratórias médias para um mesmo sexo e raça diferentes**."
      ],
      "metadata": {
        "id": "SlryTeH95n1P"
      }
    },
    {
      "cell_type": "markdown",
      "source": [
        "##### **2.1.3.1 Preparando dados**"
      ],
      "metadata": {
        "id": "zcwJXaG0OJ69"
      }
    },
    {
      "cell_type": "code",
      "source": [
        "# Calculando a média salarial acumulada em toda a série por sexo e raça.\n",
        "grouped = df[cols].groupby(['sexo', 'raca'], as_index=False).mean()"
      ],
      "metadata": {
        "id": "DwFGyAxL9-Tp"
      },
      "execution_count": 28,
      "outputs": []
    },
    {
      "cell_type": "code",
      "source": [
        "# Obtendo o valor de remuneração dos homens brancos\n",
        "hbranco = grouped[(grouped['sexo']=='Homem') & (grouped['raca']=='Branca')]\n",
        "homem_branco_remuneracao = hbranco['remuneracao'].values[0]\n",
        "\n",
        "# Obtendo o valor de remuneração dos homens negros\n",
        "hnegro = grouped[(grouped['sexo']=='Homem') & (grouped['raca']=='Negra')]\n",
        "homem_negro_remuneracao = hnegro['remuneracao'].values[0]\n",
        "\n",
        "# Diferença de remuneração entre homens brancos e negros\n",
        "diferenca_remuneracao_homens = homem_branco_remuneracao - homem_negro_remuneracao\n",
        "\n",
        "# Diferença percentual remuneratória entre brancos e negros\n",
        "percentual_diferenca_homens_brancos_negros = get_percentage(homem_branco_remuneracao, homem_negro_remuneracao)"
      ],
      "metadata": {
        "id": "jBVC6zea50vv"
      },
      "execution_count": 29,
      "outputs": []
    },
    {
      "cell_type": "code",
      "source": [
        "percentual_diferenca_homens_brancos_negros"
      ],
      "metadata": {
        "colab": {
          "base_uri": "https://localhost:8080/"
        },
        "id": "BKdFLTXXs6IX",
        "outputId": "0863caf6-e028-4302-85ef-55dcbfc8997f"
      },
      "execution_count": 30,
      "outputs": [
        {
          "output_type": "execute_result",
          "data": {
            "text/plain": [
              "29.44130412691178"
            ]
          },
          "metadata": {},
          "execution_count": 30
        }
      ]
    },
    {
      "cell_type": "code",
      "source": [
        "# Obtendo o valor de remuneração das mulheres brancas\n",
        "mbranca = grouped[(grouped['sexo']=='Mulher') & (grouped['raca']=='Branca')]\n",
        "mulher_branca_remuneracao = mbranca['remuneracao'].values[0]\n",
        "\n",
        "# Obtendo o valor de remuneração das mulheres negras\n",
        "mnegra = grouped[(grouped['sexo']=='Mulher') & (grouped['raca']=='Negra')]\n",
        "mulher_negra_remuneracao = mnegra['remuneracao'].values[0]\n",
        "\n",
        "# Diferença de remuneração entre mulheres brancas e negras\n",
        "diferenca_remuneracao_mulheres = mulher_branca_remuneracao - mulher_negra_remuneracao\n",
        "\n",
        "# Diferença percentual remuneratória entre brancos e negros\n",
        "percentual_diferenca_mulheres_brancas_negras = get_percentage(mulher_branca_remuneracao, mulher_negra_remuneracao)"
      ],
      "metadata": {
        "id": "wDos88_395bZ"
      },
      "execution_count": 31,
      "outputs": []
    },
    {
      "cell_type": "code",
      "source": [
        "percentual_diferenca_mulheres_brancas_negras"
      ],
      "metadata": {
        "colab": {
          "base_uri": "https://localhost:8080/"
        },
        "id": "Wz5q7g3Q_Ko6",
        "outputId": "a9b9a236-662a-4a21-c9df-276f650a6e22"
      },
      "execution_count": 32,
      "outputs": [
        {
          "output_type": "execute_result",
          "data": {
            "text/plain": [
              "24.588491495163915"
            ]
          },
          "metadata": {},
          "execution_count": 32
        }
      ]
    },
    {
      "cell_type": "markdown",
      "source": [
        "<a name=\"secao-2.1.3.2\"></a>\n",
        "##### **2.1.3.2 Gráfico - Diferenças percentual remuneratórias por raça e sexo**"
      ],
      "metadata": {
        "id": "Q-S3TcTe4Zzi"
      }
    },
    {
      "cell_type": "code",
      "source": [
        "g_remuneracao_sexo_raca = sns.catplot(data=df, x='sexo', y='remuneracao', kind='bar', hue='raca', ci=\"sd\", palette=\"dark\", alpha=.6)\n",
        "g_remuneracao_sexo_raca.set(title='Remuneração média por sexo e raça')"
      ],
      "metadata": {
        "colab": {
          "base_uri": "https://localhost:8080/",
          "height": 0
        },
        "id": "udFYIKasDrKH",
        "outputId": "5086a7c5-4352-42bc-f727-7b6a2e32f44a"
      },
      "execution_count": 33,
      "outputs": [
        {
          "output_type": "execute_result",
          "data": {
            "text/plain": [
              "<seaborn.axisgrid.FacetGrid at 0x7fdd9fae2e90>"
            ]
          },
          "metadata": {},
          "execution_count": 33
        },
        {
          "output_type": "display_data",
          "data": {
            "text/plain": [
              "<Figure size 438.35x360 with 1 Axes>"
            ],
            "image/png": "[encoded data removed]"
          },
          "metadata": {}
        }
      ]
    },
    {
      "cell_type": "markdown",
      "source": [
        "**Diferença percentual média entre remunerações de brancos e negros**."
      ],
      "metadata": {
        "id": "5g2wbM6u-L2F"
      }
    },
    {
      "cell_type": "code",
      "source": [
        "get_percentage(homem_branco_remuneracao, homem_negro_remuneracao)"
      ],
      "metadata": {
        "colab": {
          "base_uri": "https://localhost:8080/"
        },
        "id": "CxCdjarks_Kv",
        "outputId": "c4e60268-28bc-4dc0-cbda-be69553297ee"
      },
      "execution_count": 34,
      "outputs": [
        {
          "output_type": "execute_result",
          "data": {
            "text/plain": [
              "29.44130412691178"
            ]
          },
          "metadata": {},
          "execution_count": 34
        }
      ]
    },
    {
      "cell_type": "code",
      "source": [
        "get_percentage(mulher_branca_remuneracao, mulher_negra_remuneracao)"
      ],
      "metadata": {
        "colab": {
          "base_uri": "https://localhost:8080/"
        },
        "id": "U9bXMgEEthzY",
        "outputId": "9d31b110-1dcf-4902-f4af-67f59f6d44d3"
      },
      "execution_count": 35,
      "outputs": [
        {
          "output_type": "execute_result",
          "data": {
            "text/plain": [
              "24.588491495163915"
            ]
          },
          "metadata": {},
          "execution_count": 35
        }
      ]
    },
    {
      "cell_type": "markdown",
      "source": [
        "### **2.2 Diferenças remuneratórias ao longo de toda série história**"
      ],
      "metadata": {
        "id": "UImJUJc85REi"
      }
    },
    {
      "cell_type": "markdown",
      "source": [
        "#### **2.2.1 Evolução das diferenças remuneratórias médias entre brancos e negros ao longo de toda a série histórica**"
      ],
      "metadata": {
        "id": "IZw1crhxSoID"
      }
    },
    {
      "cell_type": "markdown",
      "source": [
        "##### **2.2.1.1 Preparando os dados**"
      ],
      "metadata": {
        "id": "VAymzxoUTRnL"
      }
    },
    {
      "cell_type": "code",
      "source": [
        "# fazendo pivot do dataframe para visualizar dados ao longo dos anos\n",
        "df_raca_serie_hist = pd.pivot_table(df, index='ano', values='remuneracao', columns=['raca']).reset_index()\n",
        "\n",
        "# Calculando a diferença salarial em termos absolutos por raça\n",
        "df_raca_serie_hist['dif_sal_val_abs'] = df_raca_serie_hist[['Branca', 'Negra']].apply(lambda x: x[0] - x[1], axis=1)\n",
        "\n",
        "# Calculando a diferença percentual de salários por raça\n",
        "df_raca_serie_hist['dif_perc_sal'] = df_raca_serie_hist[['Branca', 'Negra']].apply(lambda x: get_percentage(x[0], x[1]), axis=1)"
      ],
      "metadata": {
        "id": "AyAC8-6aXftf"
      },
      "execution_count": 36,
      "outputs": []
    },
    {
      "cell_type": "code",
      "source": [
        "df_raca_serie_hist.head(3)"
      ],
      "metadata": {
        "colab": {
          "base_uri": "https://localhost:8080/",
          "height": 143
        },
        "id": "iriU8zcDaY3i",
        "outputId": "84a54530-89c6-4c60-d6b0-e334dc838df3"
      },
      "execution_count": 37,
      "outputs": [
        {
          "output_type": "execute_result",
          "data": {
            "text/plain": [
              "raca   ano   Branca    Negra  dif_sal_val_abs  dif_perc_sal\n",
              "0     1999  5894.40  4389.35          1505.05     25.533557\n",
              "1     2000  5288.80  3967.10          1321.70     24.990546\n",
              "2     2001  5415.65  3920.85          1494.80     27.601488"
            ],
            "text/html": [
              "\n",
              "  <div id=\"df-cb9f995f-0fb7-4c51-914b-489e31126f73\">\n",
              "    <div class=\"colab-df-container\">\n",
              "      <div>\n",
              "<style scoped>\n",
              "    .dataframe tbody tr th:only-of-type {\n",
              "        vertical-align: middle;\n",
              "    }\n",
              "\n",
              "    .dataframe tbody tr th {\n",
              "        vertical-align: top;\n",
              "    }\n",
              "\n",
              "    .dataframe thead th {\n",
              "        text-align: right;\n",
              "    }\n",
              "</style>\n",
              "<table border=\"1\" class=\"dataframe\">\n",
              "  <thead>\n",
              "    <tr style=\"text-align: right;\">\n",
              "      <th>raca</th>\n",
              "      <th>ano</th>\n",
              "      <th>Branca</th>\n",
              "      <th>Negra</th>\n",
              "      <th>dif_sal_val_abs</th>\n",
              "      <th>dif_perc_sal</th>\n",
              "    </tr>\n",
              "  </thead>\n",
              "  <tbody>\n",
              "    <tr>\n",
              "      <th>0</th>\n",
              "      <td>1999</td>\n",
              "      <td>5894.40</td>\n",
              "      <td>4389.35</td>\n",
              "      <td>1505.05</td>\n",
              "      <td>25.533557</td>\n",
              "    </tr>\n",
              "    <tr>\n",
              "      <th>1</th>\n",
              "      <td>2000</td>\n",
              "      <td>5288.80</td>\n",
              "      <td>3967.10</td>\n",
              "      <td>1321.70</td>\n",
              "      <td>24.990546</td>\n",
              "    </tr>\n",
              "    <tr>\n",
              "      <th>2</th>\n",
              "      <td>2001</td>\n",
              "      <td>5415.65</td>\n",
              "      <td>3920.85</td>\n",
              "      <td>1494.80</td>\n",
              "      <td>27.601488</td>\n",
              "    </tr>\n",
              "  </tbody>\n",
              "</table>\n",
              "</div>\n",
              "      <button class=\"colab-df-convert\" onclick=\"convertToInteractive('df-cb9f995f-0fb7-4c51-914b-489e31126f73')\"\n",
              "              title=\"Convert this dataframe to an interactive table.\"\n",
              "              style=\"display:none;\">\n",
              "        \n",
              "  <svg xmlns=\"http://www.w3.org/2000/svg\" height=\"24px\"viewBox=\"0 0 24 24\"\n",
              "       width=\"24px\">\n",
              "    <path d=\"M0 0h24v24H0V0z\" fill=\"none\"/>\n",
              "    <path d=\"M18.56 5.44l.94 2.06.94-2.06 2.06-.94-2.06-.94-.94-2.06-.94 2.06-2.06.94zm-11 1L8.5 8.5l.94-2.06 2.06-.94-2.06-.94L8.5 2.5l-.94 2.06-2.06.94zm10 10l.94 2.06.94-2.06 2.06-.94-2.06-.94-.94-2.06-.94 2.06-2.06.94z\"/><path d=\"M17.41 7.96l-1.37-1.37c-.4-.4-.92-.59-1.43-.59-.52 0-1.04.2-1.43.59L10.3 9.45l-7.72 7.72c-.78.78-.78 2.05 0 2.83L4 21.41c.39.39.9.59 1.41.59.51 0 1.02-.2 1.41-.59l7.78-7.78 2.81-2.81c.8-.78.8-2.07 0-2.86zM5.41 20L4 18.59l7.72-7.72 1.47 1.35L5.41 20z\"/>\n",
              "  </svg>\n",
              "      </button>\n",
              "      \n",
              "  <style>\n",
              "    .colab-df-container {\n",
              "      display:flex;\n",
              "      flex-wrap:wrap;\n",
              "      gap: 12px;\n",
              "    }\n",
              "\n",
              "    .colab-df-convert {\n",
              "      background-color: #E8F0FE;\n",
              "      border: none;\n",
              "      border-radius: 50%;\n",
              "      cursor: pointer;\n",
              "      display: none;\n",
              "      fill: #1967D2;\n",
              "      height: 32px;\n",
              "      padding: 0 0 0 0;\n",
              "      width: 32px;\n",
              "    }\n",
              "\n",
              "    .colab-df-convert:hover {\n",
              "      background-color: #E2EBFA;\n",
              "      box-shadow: 0px 1px 2px rgba(60, 64, 67, 0.3), 0px 1px 3px 1px rgba(60, 64, 67, 0.15);\n",
              "      fill: #174EA6;\n",
              "    }\n",
              "\n",
              "    [theme=dark] .colab-df-convert {\n",
              "      background-color: #3B4455;\n",
              "      fill: #D2E3FC;\n",
              "    }\n",
              "\n",
              "    [theme=dark] .colab-df-convert:hover {\n",
              "      background-color: #434B5C;\n",
              "      box-shadow: 0px 1px 3px 1px rgba(0, 0, 0, 0.15);\n",
              "      filter: drop-shadow(0px 1px 2px rgba(0, 0, 0, 0.3));\n",
              "      fill: #FFFFFF;\n",
              "    }\n",
              "  </style>\n",
              "\n",
              "      <script>\n",
              "        const buttonEl =\n",
              "          document.querySelector('#df-cb9f995f-0fb7-4c51-914b-489e31126f73 button.colab-df-convert');\n",
              "        buttonEl.style.display =\n",
              "          google.colab.kernel.accessAllowed ? 'block' : 'none';\n",
              "\n",
              "        async function convertToInteractive(key) {\n",
              "          const element = document.querySelector('#df-cb9f995f-0fb7-4c51-914b-489e31126f73');\n",
              "          const dataTable =\n",
              "            await google.colab.kernel.invokeFunction('convertToInteractive',\n",
              "                                                     [key], {});\n",
              "          if (!dataTable) return;\n",
              "\n",
              "          const docLinkHtml = 'Like what you see? Visit the ' +\n",
              "            '<a target=\"_blank\" href=https://colab.research.google.com/notebooks/data_table.ipynb>data table notebook</a>'\n",
              "            + ' to learn more about interactive tables.';\n",
              "          element.innerHTML = '';\n",
              "          dataTable['output_type'] = 'display_data';\n",
              "          await google.colab.output.renderOutput(dataTable, element);\n",
              "          const docLink = document.createElement('div');\n",
              "          docLink.innerHTML = docLinkHtml;\n",
              "          element.appendChild(docLink);\n",
              "        }\n",
              "      </script>\n",
              "    </div>\n",
              "  </div>\n",
              "  "
            ]
          },
          "metadata": {},
          "execution_count": 37
        }
      ]
    },
    {
      "cell_type": "code",
      "source": [
        "# Confirmando valores após pivot\n",
        "df[df['ano']==1999].groupby('raca').mean()"
      ],
      "metadata": {
        "colab": {
          "base_uri": "https://localhost:8080/",
          "height": 143
        },
        "id": "4IAubL34yqgM",
        "outputId": "113d356a-7b41-496d-e6a4-88c1ac70500c"
      },
      "execution_count": 38,
      "outputs": [
        {
          "output_type": "execute_result",
          "data": {
            "text/plain": [
              "        indice     ano  remuneracao\n",
              "raca                               \n",
              "Branca     2.0  1999.0      5894.40\n",
              "Negra      3.0  1999.0      4389.35"
            ],
            "text/html": [
              "\n",
              "  <div id=\"df-9a89e1c9-1888-4a82-95c1-9de116c5069c\">\n",
              "    <div class=\"colab-df-container\">\n",
              "      <div>\n",
              "<style scoped>\n",
              "    .dataframe tbody tr th:only-of-type {\n",
              "        vertical-align: middle;\n",
              "    }\n",
              "\n",
              "    .dataframe tbody tr th {\n",
              "        vertical-align: top;\n",
              "    }\n",
              "\n",
              "    .dataframe thead th {\n",
              "        text-align: right;\n",
              "    }\n",
              "</style>\n",
              "<table border=\"1\" class=\"dataframe\">\n",
              "  <thead>\n",
              "    <tr style=\"text-align: right;\">\n",
              "      <th></th>\n",
              "      <th>indice</th>\n",
              "      <th>ano</th>\n",
              "      <th>remuneracao</th>\n",
              "    </tr>\n",
              "    <tr>\n",
              "      <th>raca</th>\n",
              "      <th></th>\n",
              "      <th></th>\n",
              "      <th></th>\n",
              "    </tr>\n",
              "  </thead>\n",
              "  <tbody>\n",
              "    <tr>\n",
              "      <th>Branca</th>\n",
              "      <td>2.0</td>\n",
              "      <td>1999.0</td>\n",
              "      <td>5894.40</td>\n",
              "    </tr>\n",
              "    <tr>\n",
              "      <th>Negra</th>\n",
              "      <td>3.0</td>\n",
              "      <td>1999.0</td>\n",
              "      <td>4389.35</td>\n",
              "    </tr>\n",
              "  </tbody>\n",
              "</table>\n",
              "</div>\n",
              "      <button class=\"colab-df-convert\" onclick=\"convertToInteractive('df-9a89e1c9-1888-4a82-95c1-9de116c5069c')\"\n",
              "              title=\"Convert this dataframe to an interactive table.\"\n",
              "              style=\"display:none;\">\n",
              "        \n",
              "  <svg xmlns=\"http://www.w3.org/2000/svg\" height=\"24px\"viewBox=\"0 0 24 24\"\n",
              "       width=\"24px\">\n",
              "    <path d=\"M0 0h24v24H0V0z\" fill=\"none\"/>\n",
              "    <path d=\"M18.56 5.44l.94 2.06.94-2.06 2.06-.94-2.06-.94-.94-2.06-.94 2.06-2.06.94zm-11 1L8.5 8.5l.94-2.06 2.06-.94-2.06-.94L8.5 2.5l-.94 2.06-2.06.94zm10 10l.94 2.06.94-2.06 2.06-.94-2.06-.94-.94-2.06-.94 2.06-2.06.94z\"/><path d=\"M17.41 7.96l-1.37-1.37c-.4-.4-.92-.59-1.43-.59-.52 0-1.04.2-1.43.59L10.3 9.45l-7.72 7.72c-.78.78-.78 2.05 0 2.83L4 21.41c.39.39.9.59 1.41.59.51 0 1.02-.2 1.41-.59l7.78-7.78 2.81-2.81c.8-.78.8-2.07 0-2.86zM5.41 20L4 18.59l7.72-7.72 1.47 1.35L5.41 20z\"/>\n",
              "  </svg>\n",
              "      </button>\n",
              "      \n",
              "  <style>\n",
              "    .colab-df-container {\n",
              "      display:flex;\n",
              "      flex-wrap:wrap;\n",
              "      gap: 12px;\n",
              "    }\n",
              "\n",
              "    .colab-df-convert {\n",
              "      background-color: #E8F0FE;\n",
              "      border: none;\n",
              "      border-radius: 50%;\n",
              "      cursor: pointer;\n",
              "      display: none;\n",
              "      fill: #1967D2;\n",
              "      height: 32px;\n",
              "      padding: 0 0 0 0;\n",
              "      width: 32px;\n",
              "    }\n",
              "\n",
              "    .colab-df-convert:hover {\n",
              "      background-color: #E2EBFA;\n",
              "      box-shadow: 0px 1px 2px rgba(60, 64, 67, 0.3), 0px 1px 3px 1px rgba(60, 64, 67, 0.15);\n",
              "      fill: #174EA6;\n",
              "    }\n",
              "\n",
              "    [theme=dark] .colab-df-convert {\n",
              "      background-color: #3B4455;\n",
              "      fill: #D2E3FC;\n",
              "    }\n",
              "\n",
              "    [theme=dark] .colab-df-convert:hover {\n",
              "      background-color: #434B5C;\n",
              "      box-shadow: 0px 1px 3px 1px rgba(0, 0, 0, 0.15);\n",
              "      filter: drop-shadow(0px 1px 2px rgba(0, 0, 0, 0.3));\n",
              "      fill: #FFFFFF;\n",
              "    }\n",
              "  </style>\n",
              "\n",
              "      <script>\n",
              "        const buttonEl =\n",
              "          document.querySelector('#df-9a89e1c9-1888-4a82-95c1-9de116c5069c button.colab-df-convert');\n",
              "        buttonEl.style.display =\n",
              "          google.colab.kernel.accessAllowed ? 'block' : 'none';\n",
              "\n",
              "        async function convertToInteractive(key) {\n",
              "          const element = document.querySelector('#df-9a89e1c9-1888-4a82-95c1-9de116c5069c');\n",
              "          const dataTable =\n",
              "            await google.colab.kernel.invokeFunction('convertToInteractive',\n",
              "                                                     [key], {});\n",
              "          if (!dataTable) return;\n",
              "\n",
              "          const docLinkHtml = 'Like what you see? Visit the ' +\n",
              "            '<a target=\"_blank\" href=https://colab.research.google.com/notebooks/data_table.ipynb>data table notebook</a>'\n",
              "            + ' to learn more about interactive tables.';\n",
              "          element.innerHTML = '';\n",
              "          dataTable['output_type'] = 'display_data';\n",
              "          await google.colab.output.renderOutput(dataTable, element);\n",
              "          const docLink = document.createElement('div');\n",
              "          docLink.innerHTML = docLinkHtml;\n",
              "          element.appendChild(docLink);\n",
              "        }\n",
              "      </script>\n",
              "    </div>\n",
              "  </div>\n",
              "  "
            ]
          },
          "metadata": {},
          "execution_count": 38
        }
      ]
    },
    {
      "cell_type": "markdown",
      "source": [
        "<a name=\"secao-2.2.1.2\"></a>\n",
        "##### **2.2.1.2 Gráfico - Evolução das diferenças remuneratórias médias entre brancos e negros ao longo de toda a série histórica**"
      ],
      "metadata": {
        "id": "kLFn9DZrTeKL"
      }
    },
    {
      "cell_type": "code",
      "source": [
        "# Ajustando o tamanho da imagem\n",
        "sns.set(rc={'figure.figsize':(15, 8)})\n",
        "\n",
        "# Fundo branco e remoção de grid.\n",
        "sns.set_style(\"whitegrid\", {'axes.grid': False})\n",
        "\n",
        "g = sns.lineplot(data=df_raca_serie_hist, x='ano', y='dif_perc_sal', palette=\"tab10\", linewidth=2.5)\n",
        "g.set(title='Evolução da diferença percentual entre remunerações de \\nbrancos de negros ao longo da série histórica')\n",
        "g.set_ylabel(\"Diferença remuneratória entre brancos e negros (%)\")\n",
        "g.set_xlabel(\"\")"
      ],
      "metadata": {
        "colab": {
          "base_uri": "https://localhost:8080/",
          "height": 533
        },
        "id": "f6ivVeA9iTTb",
        "outputId": "e2c3c68e-080d-483f-e2fd-3dd812171293"
      },
      "execution_count": 39,
      "outputs": [
        {
          "output_type": "execute_result",
          "data": {
            "text/plain": [
              "Text(0.5, 0, '')"
            ]
          },
          "metadata": {},
          "execution_count": 39
        },
        {
          "output_type": "display_data",
          "data": {
            "text/plain": [
              "<Figure size 1080x576 with 1 Axes>"
            ],
            "image/png": "[encoded data removed]"
          },
          "metadata": {}
        }
      ]
    },
    {
      "cell_type": "code",
      "source": [
        "# filtrando diferença percentual das remunerações nos anos de 2004 e 2009\n",
        "df_raca_serie_hist[df_raca_serie_hist['ano'].isin([2004, 2009, 2020])][['ano', 'dif_perc_sal']]"
      ],
      "metadata": {
        "colab": {
          "base_uri": "https://localhost:8080/",
          "height": 143
        },
        "id": "OKtKabRxVp3N",
        "outputId": "6c43f8f7-211a-4a3f-90ae-b50d6616587f"
      },
      "execution_count": 40,
      "outputs": [
        {
          "output_type": "execute_result",
          "data": {
            "text/plain": [
              "raca   ano  dif_perc_sal\n",
              "5     2004     24.224688\n",
              "10    2009     29.978178\n",
              "21    2020     26.865319"
            ],
            "text/html": [
              "\n",
              "  <div id=\"df-f2c0b590-c1d9-4aed-84ac-a5bd781d743a\">\n",
              "    <div class=\"colab-df-container\">\n",
              "      <div>\n",
              "<style scoped>\n",
              "    .dataframe tbody tr th:only-of-type {\n",
              "        vertical-align: middle;\n",
              "    }\n",
              "\n",
              "    .dataframe tbody tr th {\n",
              "        vertical-align: top;\n",
              "    }\n",
              "\n",
              "    .dataframe thead th {\n",
              "        text-align: right;\n",
              "    }\n",
              "</style>\n",
              "<table border=\"1\" class=\"dataframe\">\n",
              "  <thead>\n",
              "    <tr style=\"text-align: right;\">\n",
              "      <th>raca</th>\n",
              "      <th>ano</th>\n",
              "      <th>dif_perc_sal</th>\n",
              "    </tr>\n",
              "  </thead>\n",
              "  <tbody>\n",
              "    <tr>\n",
              "      <th>5</th>\n",
              "      <td>2004</td>\n",
              "      <td>24.224688</td>\n",
              "    </tr>\n",
              "    <tr>\n",
              "      <th>10</th>\n",
              "      <td>2009</td>\n",
              "      <td>29.978178</td>\n",
              "    </tr>\n",
              "    <tr>\n",
              "      <th>21</th>\n",
              "      <td>2020</td>\n",
              "      <td>26.865319</td>\n",
              "    </tr>\n",
              "  </tbody>\n",
              "</table>\n",
              "</div>\n",
              "      <button class=\"colab-df-convert\" onclick=\"convertToInteractive('df-f2c0b590-c1d9-4aed-84ac-a5bd781d743a')\"\n",
              "              title=\"Convert this dataframe to an interactive table.\"\n",
              "              style=\"display:none;\">\n",
              "        \n",
              "  <svg xmlns=\"http://www.w3.org/2000/svg\" height=\"24px\"viewBox=\"0 0 24 24\"\n",
              "       width=\"24px\">\n",
              "    <path d=\"M0 0h24v24H0V0z\" fill=\"none\"/>\n",
              "    <path d=\"M18.56 5.44l.94 2.06.94-2.06 2.06-.94-2.06-.94-.94-2.06-.94 2.06-2.06.94zm-11 1L8.5 8.5l.94-2.06 2.06-.94-2.06-.94L8.5 2.5l-.94 2.06-2.06.94zm10 10l.94 2.06.94-2.06 2.06-.94-2.06-.94-.94-2.06-.94 2.06-2.06.94z\"/><path d=\"M17.41 7.96l-1.37-1.37c-.4-.4-.92-.59-1.43-.59-.52 0-1.04.2-1.43.59L10.3 9.45l-7.72 7.72c-.78.78-.78 2.05 0 2.83L4 21.41c.39.39.9.59 1.41.59.51 0 1.02-.2 1.41-.59l7.78-7.78 2.81-2.81c.8-.78.8-2.07 0-2.86zM5.41 20L4 18.59l7.72-7.72 1.47 1.35L5.41 20z\"/>\n",
              "  </svg>\n",
              "      </button>\n",
              "      \n",
              "  <style>\n",
              "    .colab-df-container {\n",
              "      display:flex;\n",
              "      flex-wrap:wrap;\n",
              "      gap: 12px;\n",
              "    }\n",
              "\n",
              "    .colab-df-convert {\n",
              "      background-color: #E8F0FE;\n",
              "      border: none;\n",
              "      border-radius: 50%;\n",
              "      cursor: pointer;\n",
              "      display: none;\n",
              "      fill: #1967D2;\n",
              "      height: 32px;\n",
              "      padding: 0 0 0 0;\n",
              "      width: 32px;\n",
              "    }\n",
              "\n",
              "    .colab-df-convert:hover {\n",
              "      background-color: #E2EBFA;\n",
              "      box-shadow: 0px 1px 2px rgba(60, 64, 67, 0.3), 0px 1px 3px 1px rgba(60, 64, 67, 0.15);\n",
              "      fill: #174EA6;\n",
              "    }\n",
              "\n",
              "    [theme=dark] .colab-df-convert {\n",
              "      background-color: #3B4455;\n",
              "      fill: #D2E3FC;\n",
              "    }\n",
              "\n",
              "    [theme=dark] .colab-df-convert:hover {\n",
              "      background-color: #434B5C;\n",
              "      box-shadow: 0px 1px 3px 1px rgba(0, 0, 0, 0.15);\n",
              "      filter: drop-shadow(0px 1px 2px rgba(0, 0, 0, 0.3));\n",
              "      fill: #FFFFFF;\n",
              "    }\n",
              "  </style>\n",
              "\n",
              "      <script>\n",
              "        const buttonEl =\n",
              "          document.querySelector('#df-f2c0b590-c1d9-4aed-84ac-a5bd781d743a button.colab-df-convert');\n",
              "        buttonEl.style.display =\n",
              "          google.colab.kernel.accessAllowed ? 'block' : 'none';\n",
              "\n",
              "        async function convertToInteractive(key) {\n",
              "          const element = document.querySelector('#df-f2c0b590-c1d9-4aed-84ac-a5bd781d743a');\n",
              "          const dataTable =\n",
              "            await google.colab.kernel.invokeFunction('convertToInteractive',\n",
              "                                                     [key], {});\n",
              "          if (!dataTable) return;\n",
              "\n",
              "          const docLinkHtml = 'Like what you see? Visit the ' +\n",
              "            '<a target=\"_blank\" href=https://colab.research.google.com/notebooks/data_table.ipynb>data table notebook</a>'\n",
              "            + ' to learn more about interactive tables.';\n",
              "          element.innerHTML = '';\n",
              "          dataTable['output_type'] = 'display_data';\n",
              "          await google.colab.output.renderOutput(dataTable, element);\n",
              "          const docLink = document.createElement('div');\n",
              "          docLink.innerHTML = docLinkHtml;\n",
              "          element.appendChild(docLink);\n",
              "        }\n",
              "      </script>\n",
              "    </div>\n",
              "  </div>\n",
              "  "
            ]
          },
          "metadata": {},
          "execution_count": 40
        }
      ]
    },
    {
      "cell_type": "code",
      "source": [
        "sns.set_theme(style=\"whitegrid\")\n",
        "\n",
        "g = sns.lineplot(data=df_raca_serie_hist['dif_sal_val_abs'], palette=\"tab10\", linewidth=2.5)\n",
        "g.set(title='Evolução da diferença salarial em Reais entre \\nbrancos e negros ao longo da série histórica')\n",
        "g.set_ylabel(\"Diferença Salarial\")\n",
        "g.set_xlabel(\"Tempo em Anos\")"
      ],
      "metadata": {
        "colab": {
          "base_uri": "https://localhost:8080/",
          "height": 550
        },
        "id": "EVDWL_2JgiVW",
        "outputId": "bcfb1795-60f8-4657-dea9-2a140eed173c"
      },
      "execution_count": 41,
      "outputs": [
        {
          "output_type": "execute_result",
          "data": {
            "text/plain": [
              "Text(0.5, 0, 'Tempo em Anos')"
            ]
          },
          "metadata": {},
          "execution_count": 41
        },
        {
          "output_type": "display_data",
          "data": {
            "text/plain": [
              "<Figure size 1080x576 with 1 Axes>"
            ],
            "image/png": "[encoded data removed]"
          },
          "metadata": {}
        }
      ]
    },
    {
      "cell_type": "code",
      "source": [
        "# filtrando diferença média das remunerações nos anos de 2004 e 2009\n",
        "df_raca_serie_hist[df_raca_serie_hist['ano'].isin([2004, 2009, 2020])][['ano', 'dif_sal_val_abs']]"
      ],
      "metadata": {
        "id": "A3qtEu2Yl27s",
        "colab": {
          "base_uri": "https://localhost:8080/",
          "height": 143
        },
        "outputId": "01e07161-f782-423d-c3e9-8ca7cd9d8e33"
      },
      "execution_count": 42,
      "outputs": [
        {
          "output_type": "execute_result",
          "data": {
            "text/plain": [
              "raca   ano  dif_sal_val_abs\n",
              "5     2004          1316.20\n",
              "10    2009          2307.90\n",
              "21    2020          2220.15"
            ],
            "text/html": [
              "\n",
              "  <div id=\"df-5748859b-6d2a-4200-9b8b-3b3d9a2e815d\">\n",
              "    <div class=\"colab-df-container\">\n",
              "      <div>\n",
              "<style scoped>\n",
              "    .dataframe tbody tr th:only-of-type {\n",
              "        vertical-align: middle;\n",
              "    }\n",
              "\n",
              "    .dataframe tbody tr th {\n",
              "        vertical-align: top;\n",
              "    }\n",
              "\n",
              "    .dataframe thead th {\n",
              "        text-align: right;\n",
              "    }\n",
              "</style>\n",
              "<table border=\"1\" class=\"dataframe\">\n",
              "  <thead>\n",
              "    <tr style=\"text-align: right;\">\n",
              "      <th>raca</th>\n",
              "      <th>ano</th>\n",
              "      <th>dif_sal_val_abs</th>\n",
              "    </tr>\n",
              "  </thead>\n",
              "  <tbody>\n",
              "    <tr>\n",
              "      <th>5</th>\n",
              "      <td>2004</td>\n",
              "      <td>1316.20</td>\n",
              "    </tr>\n",
              "    <tr>\n",
              "      <th>10</th>\n",
              "      <td>2009</td>\n",
              "      <td>2307.90</td>\n",
              "    </tr>\n",
              "    <tr>\n",
              "      <th>21</th>\n",
              "      <td>2020</td>\n",
              "      <td>2220.15</td>\n",
              "    </tr>\n",
              "  </tbody>\n",
              "</table>\n",
              "</div>\n",
              "      <button class=\"colab-df-convert\" onclick=\"convertToInteractive('df-5748859b-6d2a-4200-9b8b-3b3d9a2e815d')\"\n",
              "              title=\"Convert this dataframe to an interactive table.\"\n",
              "              style=\"display:none;\">\n",
              "        \n",
              "  <svg xmlns=\"http://www.w3.org/2000/svg\" height=\"24px\"viewBox=\"0 0 24 24\"\n",
              "       width=\"24px\">\n",
              "    <path d=\"M0 0h24v24H0V0z\" fill=\"none\"/>\n",
              "    <path d=\"M18.56 5.44l.94 2.06.94-2.06 2.06-.94-2.06-.94-.94-2.06-.94 2.06-2.06.94zm-11 1L8.5 8.5l.94-2.06 2.06-.94-2.06-.94L8.5 2.5l-.94 2.06-2.06.94zm10 10l.94 2.06.94-2.06 2.06-.94-2.06-.94-.94-2.06-.94 2.06-2.06.94z\"/><path d=\"M17.41 7.96l-1.37-1.37c-.4-.4-.92-.59-1.43-.59-.52 0-1.04.2-1.43.59L10.3 9.45l-7.72 7.72c-.78.78-.78 2.05 0 2.83L4 21.41c.39.39.9.59 1.41.59.51 0 1.02-.2 1.41-.59l7.78-7.78 2.81-2.81c.8-.78.8-2.07 0-2.86zM5.41 20L4 18.59l7.72-7.72 1.47 1.35L5.41 20z\"/>\n",
              "  </svg>\n",
              "      </button>\n",
              "      \n",
              "  <style>\n",
              "    .colab-df-container {\n",
              "      display:flex;\n",
              "      flex-wrap:wrap;\n",
              "      gap: 12px;\n",
              "    }\n",
              "\n",
              "    .colab-df-convert {\n",
              "      background-color: #E8F0FE;\n",
              "      border: none;\n",
              "      border-radius: 50%;\n",
              "      cursor: pointer;\n",
              "      display: none;\n",
              "      fill: #1967D2;\n",
              "      height: 32px;\n",
              "      padding: 0 0 0 0;\n",
              "      width: 32px;\n",
              "    }\n",
              "\n",
              "    .colab-df-convert:hover {\n",
              "      background-color: #E2EBFA;\n",
              "      box-shadow: 0px 1px 2px rgba(60, 64, 67, 0.3), 0px 1px 3px 1px rgba(60, 64, 67, 0.15);\n",
              "      fill: #174EA6;\n",
              "    }\n",
              "\n",
              "    [theme=dark] .colab-df-convert {\n",
              "      background-color: #3B4455;\n",
              "      fill: #D2E3FC;\n",
              "    }\n",
              "\n",
              "    [theme=dark] .colab-df-convert:hover {\n",
              "      background-color: #434B5C;\n",
              "      box-shadow: 0px 1px 3px 1px rgba(0, 0, 0, 0.15);\n",
              "      filter: drop-shadow(0px 1px 2px rgba(0, 0, 0, 0.3));\n",
              "      fill: #FFFFFF;\n",
              "    }\n",
              "  </style>\n",
              "\n",
              "      <script>\n",
              "        const buttonEl =\n",
              "          document.querySelector('#df-5748859b-6d2a-4200-9b8b-3b3d9a2e815d button.colab-df-convert');\n",
              "        buttonEl.style.display =\n",
              "          google.colab.kernel.accessAllowed ? 'block' : 'none';\n",
              "\n",
              "        async function convertToInteractive(key) {\n",
              "          const element = document.querySelector('#df-5748859b-6d2a-4200-9b8b-3b3d9a2e815d');\n",
              "          const dataTable =\n",
              "            await google.colab.kernel.invokeFunction('convertToInteractive',\n",
              "                                                     [key], {});\n",
              "          if (!dataTable) return;\n",
              "\n",
              "          const docLinkHtml = 'Like what you see? Visit the ' +\n",
              "            '<a target=\"_blank\" href=https://colab.research.google.com/notebooks/data_table.ipynb>data table notebook</a>'\n",
              "            + ' to learn more about interactive tables.';\n",
              "          element.innerHTML = '';\n",
              "          dataTable['output_type'] = 'display_data';\n",
              "          await google.colab.output.renderOutput(dataTable, element);\n",
              "          const docLink = document.createElement('div');\n",
              "          docLink.innerHTML = docLinkHtml;\n",
              "          element.appendChild(docLink);\n",
              "        }\n",
              "      </script>\n",
              "    </div>\n",
              "  </div>\n",
              "  "
            ]
          },
          "metadata": {},
          "execution_count": 42
        }
      ]
    },
    {
      "cell_type": "markdown",
      "source": [
        "#### **2.2.2 Evolução das diferenças remuneratórias médias entre homens e mulheres ao longo de toda a série histórica**"
      ],
      "metadata": {
        "id": "xFL4bonMZJrs"
      }
    },
    {
      "cell_type": "markdown",
      "source": [
        "##### **2.2.2.1 Preparando os dados**"
      ],
      "metadata": {
        "id": "pOtsWr7LaOOs"
      }
    },
    {
      "cell_type": "code",
      "source": [
        "# Fazendo pivot do dataframe para acompanhar as diferenças salariais entre os sexos ao longo dos anos\n",
        "dtf = pd.pivot_table(df, index='ano', values='remuneracao', columns=['sexo']).reset_index()\n",
        "\n",
        "# Calculando a diferença absoluta entre salários de homens e mulheres\n",
        "dtf['dif_sal_val_abs'] = dtf[['Homem', 'Mulher']].apply(lambda x: x[0] - x[1], axis=1)\n",
        "\n",
        "# Calculando a diferença salarial percentual dos salários de homens e mulheres\n",
        "dtf['dif_perc_sal'] = dtf[['Homem', 'Mulher']].apply(lambda x: get_percentage(x[0], x[1]), axis=1)"
      ],
      "metadata": {
        "id": "1seGcxyAl2ru"
      },
      "execution_count": 43,
      "outputs": []
    },
    {
      "cell_type": "code",
      "source": [
        "dtf.head(2)"
      ],
      "metadata": {
        "colab": {
          "base_uri": "https://localhost:8080/",
          "height": 112
        },
        "id": "0PdoEyjvcYMk",
        "outputId": "7d770f71-5460-45d7-d988-d8403a00b710"
      },
      "execution_count": 44,
      "outputs": [
        {
          "output_type": "execute_result",
          "data": {
            "text/plain": [
              "sexo   ano    Homem  Mulher  dif_sal_val_abs  dif_perc_sal\n",
              "0     1999  5647.95  4635.8          1012.15     17.920661\n",
              "1     2000  4921.00  4334.9           586.10     11.910181"
            ],
            "text/html": [
              "\n",
              "  <div id=\"df-3a8822ac-0c6e-432b-a0e3-6d0867e49c88\">\n",
              "    <div class=\"colab-df-container\">\n",
              "      <div>\n",
              "<style scoped>\n",
              "    .dataframe tbody tr th:only-of-type {\n",
              "        vertical-align: middle;\n",
              "    }\n",
              "\n",
              "    .dataframe tbody tr th {\n",
              "        vertical-align: top;\n",
              "    }\n",
              "\n",
              "    .dataframe thead th {\n",
              "        text-align: right;\n",
              "    }\n",
              "</style>\n",
              "<table border=\"1\" class=\"dataframe\">\n",
              "  <thead>\n",
              "    <tr style=\"text-align: right;\">\n",
              "      <th>sexo</th>\n",
              "      <th>ano</th>\n",
              "      <th>Homem</th>\n",
              "      <th>Mulher</th>\n",
              "      <th>dif_sal_val_abs</th>\n",
              "      <th>dif_perc_sal</th>\n",
              "    </tr>\n",
              "  </thead>\n",
              "  <tbody>\n",
              "    <tr>\n",
              "      <th>0</th>\n",
              "      <td>1999</td>\n",
              "      <td>5647.95</td>\n",
              "      <td>4635.8</td>\n",
              "      <td>1012.15</td>\n",
              "      <td>17.920661</td>\n",
              "    </tr>\n",
              "    <tr>\n",
              "      <th>1</th>\n",
              "      <td>2000</td>\n",
              "      <td>4921.00</td>\n",
              "      <td>4334.9</td>\n",
              "      <td>586.10</td>\n",
              "      <td>11.910181</td>\n",
              "    </tr>\n",
              "  </tbody>\n",
              "</table>\n",
              "</div>\n",
              "      <button class=\"colab-df-convert\" onclick=\"convertToInteractive('df-3a8822ac-0c6e-432b-a0e3-6d0867e49c88')\"\n",
              "              title=\"Convert this dataframe to an interactive table.\"\n",
              "              style=\"display:none;\">\n",
              "        \n",
              "  <svg xmlns=\"http://www.w3.org/2000/svg\" height=\"24px\"viewBox=\"0 0 24 24\"\n",
              "       width=\"24px\">\n",
              "    <path d=\"M0 0h24v24H0V0z\" fill=\"none\"/>\n",
              "    <path d=\"M18.56 5.44l.94 2.06.94-2.06 2.06-.94-2.06-.94-.94-2.06-.94 2.06-2.06.94zm-11 1L8.5 8.5l.94-2.06 2.06-.94-2.06-.94L8.5 2.5l-.94 2.06-2.06.94zm10 10l.94 2.06.94-2.06 2.06-.94-2.06-.94-.94-2.06-.94 2.06-2.06.94z\"/><path d=\"M17.41 7.96l-1.37-1.37c-.4-.4-.92-.59-1.43-.59-.52 0-1.04.2-1.43.59L10.3 9.45l-7.72 7.72c-.78.78-.78 2.05 0 2.83L4 21.41c.39.39.9.59 1.41.59.51 0 1.02-.2 1.41-.59l7.78-7.78 2.81-2.81c.8-.78.8-2.07 0-2.86zM5.41 20L4 18.59l7.72-7.72 1.47 1.35L5.41 20z\"/>\n",
              "  </svg>\n",
              "      </button>\n",
              "      \n",
              "  <style>\n",
              "    .colab-df-container {\n",
              "      display:flex;\n",
              "      flex-wrap:wrap;\n",
              "      gap: 12px;\n",
              "    }\n",
              "\n",
              "    .colab-df-convert {\n",
              "      background-color: #E8F0FE;\n",
              "      border: none;\n",
              "      border-radius: 50%;\n",
              "      cursor: pointer;\n",
              "      display: none;\n",
              "      fill: #1967D2;\n",
              "      height: 32px;\n",
              "      padding: 0 0 0 0;\n",
              "      width: 32px;\n",
              "    }\n",
              "\n",
              "    .colab-df-convert:hover {\n",
              "      background-color: #E2EBFA;\n",
              "      box-shadow: 0px 1px 2px rgba(60, 64, 67, 0.3), 0px 1px 3px 1px rgba(60, 64, 67, 0.15);\n",
              "      fill: #174EA6;\n",
              "    }\n",
              "\n",
              "    [theme=dark] .colab-df-convert {\n",
              "      background-color: #3B4455;\n",
              "      fill: #D2E3FC;\n",
              "    }\n",
              "\n",
              "    [theme=dark] .colab-df-convert:hover {\n",
              "      background-color: #434B5C;\n",
              "      box-shadow: 0px 1px 3px 1px rgba(0, 0, 0, 0.15);\n",
              "      filter: drop-shadow(0px 1px 2px rgba(0, 0, 0, 0.3));\n",
              "      fill: #FFFFFF;\n",
              "    }\n",
              "  </style>\n",
              "\n",
              "      <script>\n",
              "        const buttonEl =\n",
              "          document.querySelector('#df-3a8822ac-0c6e-432b-a0e3-6d0867e49c88 button.colab-df-convert');\n",
              "        buttonEl.style.display =\n",
              "          google.colab.kernel.accessAllowed ? 'block' : 'none';\n",
              "\n",
              "        async function convertToInteractive(key) {\n",
              "          const element = document.querySelector('#df-3a8822ac-0c6e-432b-a0e3-6d0867e49c88');\n",
              "          const dataTable =\n",
              "            await google.colab.kernel.invokeFunction('convertToInteractive',\n",
              "                                                     [key], {});\n",
              "          if (!dataTable) return;\n",
              "\n",
              "          const docLinkHtml = 'Like what you see? Visit the ' +\n",
              "            '<a target=\"_blank\" href=https://colab.research.google.com/notebooks/data_table.ipynb>data table notebook</a>'\n",
              "            + ' to learn more about interactive tables.';\n",
              "          element.innerHTML = '';\n",
              "          dataTable['output_type'] = 'display_data';\n",
              "          await google.colab.output.renderOutput(dataTable, element);\n",
              "          const docLink = document.createElement('div');\n",
              "          docLink.innerHTML = docLinkHtml;\n",
              "          element.appendChild(docLink);\n",
              "        }\n",
              "      </script>\n",
              "    </div>\n",
              "  </div>\n",
              "  "
            ]
          },
          "metadata": {},
          "execution_count": 44
        }
      ]
    },
    {
      "cell_type": "markdown",
      "source": [
        "<a name=\"secao-2.2.2.2\"></a>\n",
        "##### **2.2.2.2 Gráfico - Evolução das diferenças remuneratórias médias entre homens e mulheres ao longo de toda a série histórica** "
      ],
      "metadata": {
        "id": "u_kiNWxMaX8D"
      }
    },
    {
      "cell_type": "code",
      "source": [
        "g = sns.lineplot(data=dtf['dif_perc_sal'], palette=\"tab10\", linewidth=2.5)\n",
        "g.set(title='Evolução da diferença percentual salarial entre homens e mulheres \\nao longo da série histórica (2009-2020)')\n",
        "g.set_ylabel(\"Diferença %\")\n",
        "g.set_xlabel(\"Tempo em Anos\")"
      ],
      "metadata": {
        "colab": {
          "base_uri": "https://localhost:8080/",
          "height": 550
        },
        "id": "MAS7dqWCmJEI",
        "outputId": "c1411685-61f4-464c-ca73-546977265261"
      },
      "execution_count": 62,
      "outputs": [
        {
          "output_type": "execute_result",
          "data": {
            "text/plain": [
              "Text(0.5, 0, 'Tempo em Anos')"
            ]
          },
          "metadata": {},
          "execution_count": 62
        },
        {
          "output_type": "display_data",
          "data": {
            "text/plain": [
              "<Figure size 1080x576 with 1 Axes>"
            ],
            "image/png": "[encoded data removed]"
          },
          "metadata": {}
        }
      ]
    },
    {
      "cell_type": "code",
      "source": [
        "# exibindo percentual das diferenças salariais dos anos 2008 e 2013\n",
        "dtf[dtf['ano'].isin([2008, 2013])][['ano', 'dif_perc_sal']]"
      ],
      "metadata": {
        "colab": {
          "base_uri": "https://localhost:8080/",
          "height": 112
        },
        "id": "RNHnJflhrYgD",
        "outputId": "c7829d92-6fbb-4e60-955c-fb2b087bb65c"
      },
      "execution_count": 46,
      "outputs": [
        {
          "output_type": "execute_result",
          "data": {
            "text/plain": [
              "sexo   ano  dif_perc_sal\n",
              "9     2008     15.132636\n",
              "14    2013      6.773842"
            ],
            "text/html": [
              "\n",
              "  <div id=\"df-d548aa9d-d668-4659-9370-ed2a6902ed04\">\n",
              "    <div class=\"colab-df-container\">\n",
              "      <div>\n",
              "<style scoped>\n",
              "    .dataframe tbody tr th:only-of-type {\n",
              "        vertical-align: middle;\n",
              "    }\n",
              "\n",
              "    .dataframe tbody tr th {\n",
              "        vertical-align: top;\n",
              "    }\n",
              "\n",
              "    .dataframe thead th {\n",
              "        text-align: right;\n",
              "    }\n",
              "</style>\n",
              "<table border=\"1\" class=\"dataframe\">\n",
              "  <thead>\n",
              "    <tr style=\"text-align: right;\">\n",
              "      <th>sexo</th>\n",
              "      <th>ano</th>\n",
              "      <th>dif_perc_sal</th>\n",
              "    </tr>\n",
              "  </thead>\n",
              "  <tbody>\n",
              "    <tr>\n",
              "      <th>9</th>\n",
              "      <td>2008</td>\n",
              "      <td>15.132636</td>\n",
              "    </tr>\n",
              "    <tr>\n",
              "      <th>14</th>\n",
              "      <td>2013</td>\n",
              "      <td>6.773842</td>\n",
              "    </tr>\n",
              "  </tbody>\n",
              "</table>\n",
              "</div>\n",
              "      <button class=\"colab-df-convert\" onclick=\"convertToInteractive('df-d548aa9d-d668-4659-9370-ed2a6902ed04')\"\n",
              "              title=\"Convert this dataframe to an interactive table.\"\n",
              "              style=\"display:none;\">\n",
              "        \n",
              "  <svg xmlns=\"http://www.w3.org/2000/svg\" height=\"24px\"viewBox=\"0 0 24 24\"\n",
              "       width=\"24px\">\n",
              "    <path d=\"M0 0h24v24H0V0z\" fill=\"none\"/>\n",
              "    <path d=\"M18.56 5.44l.94 2.06.94-2.06 2.06-.94-2.06-.94-.94-2.06-.94 2.06-2.06.94zm-11 1L8.5 8.5l.94-2.06 2.06-.94-2.06-.94L8.5 2.5l-.94 2.06-2.06.94zm10 10l.94 2.06.94-2.06 2.06-.94-2.06-.94-.94-2.06-.94 2.06-2.06.94z\"/><path d=\"M17.41 7.96l-1.37-1.37c-.4-.4-.92-.59-1.43-.59-.52 0-1.04.2-1.43.59L10.3 9.45l-7.72 7.72c-.78.78-.78 2.05 0 2.83L4 21.41c.39.39.9.59 1.41.59.51 0 1.02-.2 1.41-.59l7.78-7.78 2.81-2.81c.8-.78.8-2.07 0-2.86zM5.41 20L4 18.59l7.72-7.72 1.47 1.35L5.41 20z\"/>\n",
              "  </svg>\n",
              "      </button>\n",
              "      \n",
              "  <style>\n",
              "    .colab-df-container {\n",
              "      display:flex;\n",
              "      flex-wrap:wrap;\n",
              "      gap: 12px;\n",
              "    }\n",
              "\n",
              "    .colab-df-convert {\n",
              "      background-color: #E8F0FE;\n",
              "      border: none;\n",
              "      border-radius: 50%;\n",
              "      cursor: pointer;\n",
              "      display: none;\n",
              "      fill: #1967D2;\n",
              "      height: 32px;\n",
              "      padding: 0 0 0 0;\n",
              "      width: 32px;\n",
              "    }\n",
              "\n",
              "    .colab-df-convert:hover {\n",
              "      background-color: #E2EBFA;\n",
              "      box-shadow: 0px 1px 2px rgba(60, 64, 67, 0.3), 0px 1px 3px 1px rgba(60, 64, 67, 0.15);\n",
              "      fill: #174EA6;\n",
              "    }\n",
              "\n",
              "    [theme=dark] .colab-df-convert {\n",
              "      background-color: #3B4455;\n",
              "      fill: #D2E3FC;\n",
              "    }\n",
              "\n",
              "    [theme=dark] .colab-df-convert:hover {\n",
              "      background-color: #434B5C;\n",
              "      box-shadow: 0px 1px 3px 1px rgba(0, 0, 0, 0.15);\n",
              "      filter: drop-shadow(0px 1px 2px rgba(0, 0, 0, 0.3));\n",
              "      fill: #FFFFFF;\n",
              "    }\n",
              "  </style>\n",
              "\n",
              "      <script>\n",
              "        const buttonEl =\n",
              "          document.querySelector('#df-d548aa9d-d668-4659-9370-ed2a6902ed04 button.colab-df-convert');\n",
              "        buttonEl.style.display =\n",
              "          google.colab.kernel.accessAllowed ? 'block' : 'none';\n",
              "\n",
              "        async function convertToInteractive(key) {\n",
              "          const element = document.querySelector('#df-d548aa9d-d668-4659-9370-ed2a6902ed04');\n",
              "          const dataTable =\n",
              "            await google.colab.kernel.invokeFunction('convertToInteractive',\n",
              "                                                     [key], {});\n",
              "          if (!dataTable) return;\n",
              "\n",
              "          const docLinkHtml = 'Like what you see? Visit the ' +\n",
              "            '<a target=\"_blank\" href=https://colab.research.google.com/notebooks/data_table.ipynb>data table notebook</a>'\n",
              "            + ' to learn more about interactive tables.';\n",
              "          element.innerHTML = '';\n",
              "          dataTable['output_type'] = 'display_data';\n",
              "          await google.colab.output.renderOutput(dataTable, element);\n",
              "          const docLink = document.createElement('div');\n",
              "          docLink.innerHTML = docLinkHtml;\n",
              "          element.appendChild(docLink);\n",
              "        }\n",
              "      </script>\n",
              "    </div>\n",
              "  </div>\n",
              "  "
            ]
          },
          "metadata": {},
          "execution_count": 46
        }
      ]
    },
    {
      "cell_type": "code",
      "source": [
        "g = sns.lineplot(data=dtf['dif_sal_val_abs'], palette=\"tab10\", linewidth=2.5)\n",
        "g.set(title='Evolução da diferença salarial em reais entre homens e mulheres \\nao longo da série histórica (2009-2020)')\n",
        "g.set_ylabel(\"Diferença em Reais\")\n",
        "g.set_xlabel(\"Tempo em Anos\")"
      ],
      "metadata": {
        "colab": {
          "base_uri": "https://localhost:8080/",
          "height": 550
        },
        "id": "tRtUSwJncodU",
        "outputId": "da3ec73b-9e8b-47a1-8619-10b705169b4e"
      },
      "execution_count": 61,
      "outputs": [
        {
          "output_type": "execute_result",
          "data": {
            "text/plain": [
              "Text(0.5, 0, 'Tempo em Anos')"
            ]
          },
          "metadata": {},
          "execution_count": 61
        },
        {
          "output_type": "display_data",
          "data": {
            "text/plain": [
              "<Figure size 1080x576 with 1 Axes>"
            ],
            "image/png": "[encoded data removed]"
          },
          "metadata": {}
        }
      ]
    },
    {
      "cell_type": "code",
      "source": [
        "# exibindo as diferenças salariais dos anos 2008 e 2013\n",
        "dtf[dtf['ano'].isin([2008, 2013])][['ano', 'dif_sal_val_abs']]"
      ],
      "metadata": {
        "colab": {
          "base_uri": "https://localhost:8080/",
          "height": 112
        },
        "id": "zRmb6wEUczpU",
        "outputId": "1f21f1b2-218f-46a7-9690-b9a14742cae6"
      },
      "execution_count": 48,
      "outputs": [
        {
          "output_type": "execute_result",
          "data": {
            "text/plain": [
              "sexo   ano  dif_sal_val_abs\n",
              "9     2008           918.15\n",
              "14    2013           509.00"
            ],
            "text/html": [
              "\n",
              "  <div id=\"df-61b2a55f-58da-48ee-8149-4d52dbd0fef1\">\n",
              "    <div class=\"colab-df-container\">\n",
              "      <div>\n",
              "<style scoped>\n",
              "    .dataframe tbody tr th:only-of-type {\n",
              "        vertical-align: middle;\n",
              "    }\n",
              "\n",
              "    .dataframe tbody tr th {\n",
              "        vertical-align: top;\n",
              "    }\n",
              "\n",
              "    .dataframe thead th {\n",
              "        text-align: right;\n",
              "    }\n",
              "</style>\n",
              "<table border=\"1\" class=\"dataframe\">\n",
              "  <thead>\n",
              "    <tr style=\"text-align: right;\">\n",
              "      <th>sexo</th>\n",
              "      <th>ano</th>\n",
              "      <th>dif_sal_val_abs</th>\n",
              "    </tr>\n",
              "  </thead>\n",
              "  <tbody>\n",
              "    <tr>\n",
              "      <th>9</th>\n",
              "      <td>2008</td>\n",
              "      <td>918.15</td>\n",
              "    </tr>\n",
              "    <tr>\n",
              "      <th>14</th>\n",
              "      <td>2013</td>\n",
              "      <td>509.00</td>\n",
              "    </tr>\n",
              "  </tbody>\n",
              "</table>\n",
              "</div>\n",
              "      <button class=\"colab-df-convert\" onclick=\"convertToInteractive('df-61b2a55f-58da-48ee-8149-4d52dbd0fef1')\"\n",
              "              title=\"Convert this dataframe to an interactive table.\"\n",
              "              style=\"display:none;\">\n",
              "        \n",
              "  <svg xmlns=\"http://www.w3.org/2000/svg\" height=\"24px\"viewBox=\"0 0 24 24\"\n",
              "       width=\"24px\">\n",
              "    <path d=\"M0 0h24v24H0V0z\" fill=\"none\"/>\n",
              "    <path d=\"M18.56 5.44l.94 2.06.94-2.06 2.06-.94-2.06-.94-.94-2.06-.94 2.06-2.06.94zm-11 1L8.5 8.5l.94-2.06 2.06-.94-2.06-.94L8.5 2.5l-.94 2.06-2.06.94zm10 10l.94 2.06.94-2.06 2.06-.94-2.06-.94-.94-2.06-.94 2.06-2.06.94z\"/><path d=\"M17.41 7.96l-1.37-1.37c-.4-.4-.92-.59-1.43-.59-.52 0-1.04.2-1.43.59L10.3 9.45l-7.72 7.72c-.78.78-.78 2.05 0 2.83L4 21.41c.39.39.9.59 1.41.59.51 0 1.02-.2 1.41-.59l7.78-7.78 2.81-2.81c.8-.78.8-2.07 0-2.86zM5.41 20L4 18.59l7.72-7.72 1.47 1.35L5.41 20z\"/>\n",
              "  </svg>\n",
              "      </button>\n",
              "      \n",
              "  <style>\n",
              "    .colab-df-container {\n",
              "      display:flex;\n",
              "      flex-wrap:wrap;\n",
              "      gap: 12px;\n",
              "    }\n",
              "\n",
              "    .colab-df-convert {\n",
              "      background-color: #E8F0FE;\n",
              "      border: none;\n",
              "      border-radius: 50%;\n",
              "      cursor: pointer;\n",
              "      display: none;\n",
              "      fill: #1967D2;\n",
              "      height: 32px;\n",
              "      padding: 0 0 0 0;\n",
              "      width: 32px;\n",
              "    }\n",
              "\n",
              "    .colab-df-convert:hover {\n",
              "      background-color: #E2EBFA;\n",
              "      box-shadow: 0px 1px 2px rgba(60, 64, 67, 0.3), 0px 1px 3px 1px rgba(60, 64, 67, 0.15);\n",
              "      fill: #174EA6;\n",
              "    }\n",
              "\n",
              "    [theme=dark] .colab-df-convert {\n",
              "      background-color: #3B4455;\n",
              "      fill: #D2E3FC;\n",
              "    }\n",
              "\n",
              "    [theme=dark] .colab-df-convert:hover {\n",
              "      background-color: #434B5C;\n",
              "      box-shadow: 0px 1px 3px 1px rgba(0, 0, 0, 0.15);\n",
              "      filter: drop-shadow(0px 1px 2px rgba(0, 0, 0, 0.3));\n",
              "      fill: #FFFFFF;\n",
              "    }\n",
              "  </style>\n",
              "\n",
              "      <script>\n",
              "        const buttonEl =\n",
              "          document.querySelector('#df-61b2a55f-58da-48ee-8149-4d52dbd0fef1 button.colab-df-convert');\n",
              "        buttonEl.style.display =\n",
              "          google.colab.kernel.accessAllowed ? 'block' : 'none';\n",
              "\n",
              "        async function convertToInteractive(key) {\n",
              "          const element = document.querySelector('#df-61b2a55f-58da-48ee-8149-4d52dbd0fef1');\n",
              "          const dataTable =\n",
              "            await google.colab.kernel.invokeFunction('convertToInteractive',\n",
              "                                                     [key], {});\n",
              "          if (!dataTable) return;\n",
              "\n",
              "          const docLinkHtml = 'Like what you see? Visit the ' +\n",
              "            '<a target=\"_blank\" href=https://colab.research.google.com/notebooks/data_table.ipynb>data table notebook</a>'\n",
              "            + ' to learn more about interactive tables.';\n",
              "          element.innerHTML = '';\n",
              "          dataTable['output_type'] = 'display_data';\n",
              "          await google.colab.output.renderOutput(dataTable, element);\n",
              "          const docLink = document.createElement('div');\n",
              "          docLink.innerHTML = docLinkHtml;\n",
              "          element.appendChild(docLink);\n",
              "        }\n",
              "      </script>\n",
              "    </div>\n",
              "  </div>\n",
              "  "
            ]
          },
          "metadata": {},
          "execution_count": 48
        }
      ]
    },
    {
      "cell_type": "markdown",
      "source": [
        "#### **2.2.2.3 Evolução das diferenças remuneratórias médias entre homens brancos e mulheres negras** "
      ],
      "metadata": {
        "id": "TZA3-3tFFAz1"
      }
    },
    {
      "cell_type": "code",
      "source": [
        "# Filtrando linhas que contenham homens brancos e mulheres negras\n",
        "df_filterd = df[df['sexo_raça'].isin(['Homem Branco', 'Mulher Negra'])]"
      ],
      "metadata": {
        "id": "f9oHQNb5Q2D4"
      },
      "execution_count": 66,
      "outputs": []
    },
    {
      "cell_type": "code",
      "source": [
        "# Pivot do dataframe transformar linhas em colunas\n",
        "df_hm = pd.pivot_table(df_filterd, index='ano', values='remuneracao', columns=['sexo_raça']).reset_index()\n",
        "df_hm.head(2)"
      ],
      "metadata": {
        "colab": {
          "base_uri": "https://localhost:8080/",
          "height": 112
        },
        "id": "Izrx-KcDSHT1",
        "outputId": "499ef2cd-2203-45ab-ef90-e0ac0ed4741d"
      },
      "execution_count": 67,
      "outputs": [
        {
          "output_type": "execute_result",
          "data": {
            "text/plain": [
              "sexo_raça   ano  Homem Branco  Mulher Negra\n",
              "0          1999        6527.2        4010.0\n",
              "1          2000        5690.3        3782.5"
            ],
            "text/html": [
              "\n",
              "  <div id=\"df-3a77cb8c-1987-4f45-b8c3-068937fce3d2\">\n",
              "    <div class=\"colab-df-container\">\n",
              "      <div>\n",
              "<style scoped>\n",
              "    .dataframe tbody tr th:only-of-type {\n",
              "        vertical-align: middle;\n",
              "    }\n",
              "\n",
              "    .dataframe tbody tr th {\n",
              "        vertical-align: top;\n",
              "    }\n",
              "\n",
              "    .dataframe thead th {\n",
              "        text-align: right;\n",
              "    }\n",
              "</style>\n",
              "<table border=\"1\" class=\"dataframe\">\n",
              "  <thead>\n",
              "    <tr style=\"text-align: right;\">\n",
              "      <th>sexo_raça</th>\n",
              "      <th>ano</th>\n",
              "      <th>Homem Branco</th>\n",
              "      <th>Mulher Negra</th>\n",
              "    </tr>\n",
              "  </thead>\n",
              "  <tbody>\n",
              "    <tr>\n",
              "      <th>0</th>\n",
              "      <td>1999</td>\n",
              "      <td>6527.2</td>\n",
              "      <td>4010.0</td>\n",
              "    </tr>\n",
              "    <tr>\n",
              "      <th>1</th>\n",
              "      <td>2000</td>\n",
              "      <td>5690.3</td>\n",
              "      <td>3782.5</td>\n",
              "    </tr>\n",
              "  </tbody>\n",
              "</table>\n",
              "</div>\n",
              "      <button class=\"colab-df-convert\" onclick=\"convertToInteractive('df-3a77cb8c-1987-4f45-b8c3-068937fce3d2')\"\n",
              "              title=\"Convert this dataframe to an interactive table.\"\n",
              "              style=\"display:none;\">\n",
              "        \n",
              "  <svg xmlns=\"http://www.w3.org/2000/svg\" height=\"24px\"viewBox=\"0 0 24 24\"\n",
              "       width=\"24px\">\n",
              "    <path d=\"M0 0h24v24H0V0z\" fill=\"none\"/>\n",
              "    <path d=\"M18.56 5.44l.94 2.06.94-2.06 2.06-.94-2.06-.94-.94-2.06-.94 2.06-2.06.94zm-11 1L8.5 8.5l.94-2.06 2.06-.94-2.06-.94L8.5 2.5l-.94 2.06-2.06.94zm10 10l.94 2.06.94-2.06 2.06-.94-2.06-.94-.94-2.06-.94 2.06-2.06.94z\"/><path d=\"M17.41 7.96l-1.37-1.37c-.4-.4-.92-.59-1.43-.59-.52 0-1.04.2-1.43.59L10.3 9.45l-7.72 7.72c-.78.78-.78 2.05 0 2.83L4 21.41c.39.39.9.59 1.41.59.51 0 1.02-.2 1.41-.59l7.78-7.78 2.81-2.81c.8-.78.8-2.07 0-2.86zM5.41 20L4 18.59l7.72-7.72 1.47 1.35L5.41 20z\"/>\n",
              "  </svg>\n",
              "      </button>\n",
              "      \n",
              "  <style>\n",
              "    .colab-df-container {\n",
              "      display:flex;\n",
              "      flex-wrap:wrap;\n",
              "      gap: 12px;\n",
              "    }\n",
              "\n",
              "    .colab-df-convert {\n",
              "      background-color: #E8F0FE;\n",
              "      border: none;\n",
              "      border-radius: 50%;\n",
              "      cursor: pointer;\n",
              "      display: none;\n",
              "      fill: #1967D2;\n",
              "      height: 32px;\n",
              "      padding: 0 0 0 0;\n",
              "      width: 32px;\n",
              "    }\n",
              "\n",
              "    .colab-df-convert:hover {\n",
              "      background-color: #E2EBFA;\n",
              "      box-shadow: 0px 1px 2px rgba(60, 64, 67, 0.3), 0px 1px 3px 1px rgba(60, 64, 67, 0.15);\n",
              "      fill: #174EA6;\n",
              "    }\n",
              "\n",
              "    [theme=dark] .colab-df-convert {\n",
              "      background-color: #3B4455;\n",
              "      fill: #D2E3FC;\n",
              "    }\n",
              "\n",
              "    [theme=dark] .colab-df-convert:hover {\n",
              "      background-color: #434B5C;\n",
              "      box-shadow: 0px 1px 3px 1px rgba(0, 0, 0, 0.15);\n",
              "      filter: drop-shadow(0px 1px 2px rgba(0, 0, 0, 0.3));\n",
              "      fill: #FFFFFF;\n",
              "    }\n",
              "  </style>\n",
              "\n",
              "      <script>\n",
              "        const buttonEl =\n",
              "          document.querySelector('#df-3a77cb8c-1987-4f45-b8c3-068937fce3d2 button.colab-df-convert');\n",
              "        buttonEl.style.display =\n",
              "          google.colab.kernel.accessAllowed ? 'block' : 'none';\n",
              "\n",
              "        async function convertToInteractive(key) {\n",
              "          const element = document.querySelector('#df-3a77cb8c-1987-4f45-b8c3-068937fce3d2');\n",
              "          const dataTable =\n",
              "            await google.colab.kernel.invokeFunction('convertToInteractive',\n",
              "                                                     [key], {});\n",
              "          if (!dataTable) return;\n",
              "\n",
              "          const docLinkHtml = 'Like what you see? Visit the ' +\n",
              "            '<a target=\"_blank\" href=https://colab.research.google.com/notebooks/data_table.ipynb>data table notebook</a>'\n",
              "            + ' to learn more about interactive tables.';\n",
              "          element.innerHTML = '';\n",
              "          dataTable['output_type'] = 'display_data';\n",
              "          await google.colab.output.renderOutput(dataTable, element);\n",
              "          const docLink = document.createElement('div');\n",
              "          docLink.innerHTML = docLinkHtml;\n",
              "          element.appendChild(docLink);\n",
              "        }\n",
              "      </script>\n",
              "    </div>\n",
              "  </div>\n",
              "  "
            ]
          },
          "metadata": {},
          "execution_count": 67
        }
      ]
    },
    {
      "cell_type": "code",
      "source": [
        "# Calculando diferenças nominal e percentual entre salários de homens brancos e mulheres negras\n",
        "df_hm['diff_nominal'] = df_hm[['Homem Branco', 'Mulher Negra']].apply(lambda x: x[0] - x[1], axis=1)\n",
        "df_hm['diff_perc'] = df_hm[['Homem Branco', 'Mulher Negra']].apply(lambda x: get_percentage(x[0], x[1]), axis=1)\n",
        "df_hm.head(2)"
      ],
      "metadata": {
        "colab": {
          "base_uri": "https://localhost:8080/",
          "height": 112
        },
        "id": "xg-PGZauTDAC",
        "outputId": "3d2ec408-0b70-4c64-9991-bfc5d700c6ca"
      },
      "execution_count": 68,
      "outputs": [
        {
          "output_type": "execute_result",
          "data": {
            "text/plain": [
              "sexo_raça   ano  Homem Branco  Mulher Negra  diff_nominal  diff_perc\n",
              "0          1999        6527.2        4010.0        2517.2  38.564775\n",
              "1          2000        5690.3        3782.5        1907.8  33.527231"
            ],
            "text/html": [
              "\n",
              "  <div id=\"df-1589d64d-4d2e-49fc-a0d5-792788abc784\">\n",
              "    <div class=\"colab-df-container\">\n",
              "      <div>\n",
              "<style scoped>\n",
              "    .dataframe tbody tr th:only-of-type {\n",
              "        vertical-align: middle;\n",
              "    }\n",
              "\n",
              "    .dataframe tbody tr th {\n",
              "        vertical-align: top;\n",
              "    }\n",
              "\n",
              "    .dataframe thead th {\n",
              "        text-align: right;\n",
              "    }\n",
              "</style>\n",
              "<table border=\"1\" class=\"dataframe\">\n",
              "  <thead>\n",
              "    <tr style=\"text-align: right;\">\n",
              "      <th>sexo_raça</th>\n",
              "      <th>ano</th>\n",
              "      <th>Homem Branco</th>\n",
              "      <th>Mulher Negra</th>\n",
              "      <th>diff_nominal</th>\n",
              "      <th>diff_perc</th>\n",
              "    </tr>\n",
              "  </thead>\n",
              "  <tbody>\n",
              "    <tr>\n",
              "      <th>0</th>\n",
              "      <td>1999</td>\n",
              "      <td>6527.2</td>\n",
              "      <td>4010.0</td>\n",
              "      <td>2517.2</td>\n",
              "      <td>38.564775</td>\n",
              "    </tr>\n",
              "    <tr>\n",
              "      <th>1</th>\n",
              "      <td>2000</td>\n",
              "      <td>5690.3</td>\n",
              "      <td>3782.5</td>\n",
              "      <td>1907.8</td>\n",
              "      <td>33.527231</td>\n",
              "    </tr>\n",
              "  </tbody>\n",
              "</table>\n",
              "</div>\n",
              "      <button class=\"colab-df-convert\" onclick=\"convertToInteractive('df-1589d64d-4d2e-49fc-a0d5-792788abc784')\"\n",
              "              title=\"Convert this dataframe to an interactive table.\"\n",
              "              style=\"display:none;\">\n",
              "        \n",
              "  <svg xmlns=\"http://www.w3.org/2000/svg\" height=\"24px\"viewBox=\"0 0 24 24\"\n",
              "       width=\"24px\">\n",
              "    <path d=\"M0 0h24v24H0V0z\" fill=\"none\"/>\n",
              "    <path d=\"M18.56 5.44l.94 2.06.94-2.06 2.06-.94-2.06-.94-.94-2.06-.94 2.06-2.06.94zm-11 1L8.5 8.5l.94-2.06 2.06-.94-2.06-.94L8.5 2.5l-.94 2.06-2.06.94zm10 10l.94 2.06.94-2.06 2.06-.94-2.06-.94-.94-2.06-.94 2.06-2.06.94z\"/><path d=\"M17.41 7.96l-1.37-1.37c-.4-.4-.92-.59-1.43-.59-.52 0-1.04.2-1.43.59L10.3 9.45l-7.72 7.72c-.78.78-.78 2.05 0 2.83L4 21.41c.39.39.9.59 1.41.59.51 0 1.02-.2 1.41-.59l7.78-7.78 2.81-2.81c.8-.78.8-2.07 0-2.86zM5.41 20L4 18.59l7.72-7.72 1.47 1.35L5.41 20z\"/>\n",
              "  </svg>\n",
              "      </button>\n",
              "      \n",
              "  <style>\n",
              "    .colab-df-container {\n",
              "      display:flex;\n",
              "      flex-wrap:wrap;\n",
              "      gap: 12px;\n",
              "    }\n",
              "\n",
              "    .colab-df-convert {\n",
              "      background-color: #E8F0FE;\n",
              "      border: none;\n",
              "      border-radius: 50%;\n",
              "      cursor: pointer;\n",
              "      display: none;\n",
              "      fill: #1967D2;\n",
              "      height: 32px;\n",
              "      padding: 0 0 0 0;\n",
              "      width: 32px;\n",
              "    }\n",
              "\n",
              "    .colab-df-convert:hover {\n",
              "      background-color: #E2EBFA;\n",
              "      box-shadow: 0px 1px 2px rgba(60, 64, 67, 0.3), 0px 1px 3px 1px rgba(60, 64, 67, 0.15);\n",
              "      fill: #174EA6;\n",
              "    }\n",
              "\n",
              "    [theme=dark] .colab-df-convert {\n",
              "      background-color: #3B4455;\n",
              "      fill: #D2E3FC;\n",
              "    }\n",
              "\n",
              "    [theme=dark] .colab-df-convert:hover {\n",
              "      background-color: #434B5C;\n",
              "      box-shadow: 0px 1px 3px 1px rgba(0, 0, 0, 0.15);\n",
              "      filter: drop-shadow(0px 1px 2px rgba(0, 0, 0, 0.3));\n",
              "      fill: #FFFFFF;\n",
              "    }\n",
              "  </style>\n",
              "\n",
              "      <script>\n",
              "        const buttonEl =\n",
              "          document.querySelector('#df-1589d64d-4d2e-49fc-a0d5-792788abc784 button.colab-df-convert');\n",
              "        buttonEl.style.display =\n",
              "          google.colab.kernel.accessAllowed ? 'block' : 'none';\n",
              "\n",
              "        async function convertToInteractive(key) {\n",
              "          const element = document.querySelector('#df-1589d64d-4d2e-49fc-a0d5-792788abc784');\n",
              "          const dataTable =\n",
              "            await google.colab.kernel.invokeFunction('convertToInteractive',\n",
              "                                                     [key], {});\n",
              "          if (!dataTable) return;\n",
              "\n",
              "          const docLinkHtml = 'Like what you see? Visit the ' +\n",
              "            '<a target=\"_blank\" href=https://colab.research.google.com/notebooks/data_table.ipynb>data table notebook</a>'\n",
              "            + ' to learn more about interactive tables.';\n",
              "          element.innerHTML = '';\n",
              "          dataTable['output_type'] = 'display_data';\n",
              "          await google.colab.output.renderOutput(dataTable, element);\n",
              "          const docLink = document.createElement('div');\n",
              "          docLink.innerHTML = docLinkHtml;\n",
              "          element.appendChild(docLink);\n",
              "        }\n",
              "      </script>\n",
              "    </div>\n",
              "  </div>\n",
              "  "
            ]
          },
          "metadata": {},
          "execution_count": 68
        }
      ]
    },
    {
      "cell_type": "markdown",
      "source": [
        "<a name=\"secao-2.2.2.3\"></a>\n",
        "\n",
        "**Gráfico que ilustra a diferença percentual remuneratória entre homens brancos e mulheres negras.**"
      ],
      "metadata": {
        "id": "UQ9xzlldpRtC"
      }
    },
    {
      "cell_type": "code",
      "source": [
        "g = sns.lineplot(data=df_hm, x='ano', y='diff_perc', palette=\"tab10\", linewidth=2.5)\n",
        "g.set(title='Evolução da diferença percentual remuneratória entre homens e mulheres \\nao longo da série histórica (2009-2020)')\n",
        "g.set_ylabel(\"Diferença percentual\")\n",
        "g.set_xlabel(\"\")"
      ],
      "metadata": {
        "colab": {
          "base_uri": "https://localhost:8080/",
          "height": 533
        },
        "id": "uoxAxLdqUlZb",
        "outputId": "d4f76b74-f03a-465c-c861-c1b8422a3e67"
      },
      "execution_count": 65,
      "outputs": [
        {
          "output_type": "execute_result",
          "data": {
            "text/plain": [
              "Text(0.5, 0, '')"
            ]
          },
          "metadata": {},
          "execution_count": 65
        },
        {
          "output_type": "display_data",
          "data": {
            "text/plain": [
              "<Figure size 1080x576 with 1 Axes>"
            ],
            "image/png": "[encoded data removed]"
          },
          "metadata": {}
        }
      ]
    },
    {
      "cell_type": "code",
      "source": [
        "# Valor mínimo da diferença percentual entre os salários de homens brancos e mulheres negras\n",
        "df_hm['diff_perc'].min()"
      ],
      "metadata": {
        "colab": {
          "base_uri": "https://localhost:8080/"
        },
        "id": "UTx27M8qLbCw",
        "outputId": "82549101-56b2-4f2a-d4b1-231cc6b552de"
      },
      "execution_count": 81,
      "outputs": [
        {
          "output_type": "execute_result",
          "data": {
            "text/plain": [
              "30.933628006489084"
            ]
          },
          "metadata": {},
          "execution_count": 81
        }
      ]
    },
    {
      "cell_type": "code",
      "source": [
        "df_hm['diff_nominal'].min()"
      ],
      "metadata": {
        "colab": {
          "base_uri": "https://localhost:8080/"
        },
        "id": "93_XsTwZLteI",
        "outputId": "a9f2c3e0-de73-4a33-cc7d-2a4a33ad6972"
      },
      "execution_count": 83,
      "outputs": [
        {
          "output_type": "execute_result",
          "data": {
            "text/plain": [
              "1907.8000000000002"
            ]
          },
          "metadata": {},
          "execution_count": 83
        }
      ]
    },
    {
      "cell_type": "code",
      "source": [
        "# Valor máximo da diferença percentual entre os salários de homens brancos e mulheres negras\n",
        "df_hm['diff_perc'].max()"
      ],
      "metadata": {
        "colab": {
          "base_uri": "https://localhost:8080/"
        },
        "id": "59IciCXkLmC-",
        "outputId": "9fef8d3c-229c-4317-cd84-8ed9f4855941"
      },
      "execution_count": 82,
      "outputs": [
        {
          "output_type": "execute_result",
          "data": {
            "text/plain": [
              "39.72050635716462"
            ]
          },
          "metadata": {},
          "execution_count": 82
        }
      ]
    },
    {
      "cell_type": "code",
      "source": [
        "df_hm['diff_nominal'].max()"
      ],
      "metadata": {
        "colab": {
          "base_uri": "https://localhost:8080/"
        },
        "id": "wuRl4qEhLzI8",
        "outputId": "0de9a266-be59-4b1d-99e6-6bd1e95eae71"
      },
      "execution_count": 84,
      "outputs": [
        {
          "output_type": "execute_result",
          "data": {
            "text/plain": [
              "3219.800000000001"
            ]
          },
          "metadata": {},
          "execution_count": 84
        }
      ]
    }
  ]
}